{
 "cells": [
  {
   "cell_type": "code",
   "execution_count": 1,
   "id": "2c5ba92c-8cb0-4d7c-a880-e623e931fa44",
   "metadata": {},
   "outputs": [],
   "source": [
    "%%capture --no-stderr\n",
    "%pip install -U --quiet langchain-community tiktoken langchain-openai langchainhub chromadb langchain langgraph langchain-text-splitters beautifulsoup4"
   ]
  },
  {
   "cell_type": "code",
   "execution_count": 46,
   "id": "6d944668-0ffd-4352-9d83-3234589e18a8",
   "metadata": {},
   "outputs": [],
   "source": [
    "from dotenv import load_dotenv\n",
    "import os\n",
    "\n",
    "load_dotenv()\n",
    "\n",
    "openai_api_key = os.getenv(\"OPENAI_API_KEY\")\n",
    "if not openai_api_key:\n",
    "    raise ValueError(\"OPENAI_API_KEY not found in .env file\")\n"
   ]
  },
  {
   "cell_type": "code",
   "execution_count": 1,
   "id": "46bcfaab",
   "metadata": {},
   "outputs": [
    {
     "name": "stderr",
     "output_type": "stream",
     "text": [
      "d:\\AIEA Lab\\LLM Logic\\Agentic-RAG\\venv\\lib\\site-packages\\tqdm\\auto.py:21: TqdmWarning: IProgress not found. Please update jupyter and ipywidgets. See https://ipywidgets.readthedocs.io/en/stable/user_install.html\n",
      "  from .autonotebook import tqdm as notebook_tqdm\n"
     ]
    }
   ],
   "source": [
    "import pandas as pd\n",
    "import evaluate\n",
    "from transformers import pipeline\n",
    "from langchain_huggingface import HuggingFaceEmbeddings\n",
    "from langchain.text_splitter import CharacterTextSplitter\n",
    "from langchain_community.vectorstores import FAISS\n",
    "from langchain_community.document_loaders import DataFrameLoader\n",
    "from langchain_core.prompts import ChatPromptTemplate\n",
    "from langchain_core.runnables import RunnableParallel, RunnablePassthrough\n",
    "from langchain_core.output_parsers import StrOutputParser\n",
    "from langchain import hub\n",
    "from langchain_openai import ChatOpenAI\n",
    "import os\n",
    "import getpass\n",
    "import torch\n",
    "from transformers import AutoModelForSpeechSeq2Seq, AutoProcessor, pipeline\n",
    "from langchain.llms import HuggingFaceHub"
   ]
  },
  {
   "cell_type": "code",
   "execution_count": 2,
   "id": "9e713d3e-5792-45c8-9b1f-8d84d4826164",
   "metadata": {},
   "outputs": [],
   "source": [
    "def get_reteriver() : \n",
    "    import pandas as pd\n",
    "    ucsc_passage_df = pd.read_csv(\"passage.csv\")\n",
    "    ucsc_passge_data_loader = DataFrameLoader(ucsc_passage_df, page_content_column=\"passage\")\n",
    "    ucsc_passage_data = ucsc_passge_data_loader.load()\n",
    "    text_splitter = CharacterTextSplitter(chunk_size=200, chunk_overlap=50)\n",
    "    docs = text_splitter.split_documents(ucsc_passage_data)\n",
    "    embeddings = HuggingFaceEmbeddings()\n",
    "    db = FAISS.from_documents(docs, embeddings)\n",
    "    return db.as_retriever()"
   ]
  },
  {
   "cell_type": "code",
   "execution_count": 3,
   "id": "5597e88c-81bc-4789-b7b8-0d34da499c89",
   "metadata": {},
   "outputs": [
    {
     "name": "stderr",
     "output_type": "stream",
     "text": [
      "Created a chunk of size 265, which is longer than the specified 200\n",
      "Created a chunk of size 1411, which is longer than the specified 200\n",
      "Created a chunk of size 294, which is longer than the specified 200\n",
      "Created a chunk of size 395, which is longer than the specified 200\n",
      "Created a chunk of size 298, which is longer than the specified 200\n",
      "Created a chunk of size 324, which is longer than the specified 200\n",
      "Created a chunk of size 470, which is longer than the specified 200\n",
      "Created a chunk of size 662, which is longer than the specified 200\n",
      "Created a chunk of size 451, which is longer than the specified 200\n",
      "Created a chunk of size 245, which is longer than the specified 200\n",
      "Created a chunk of size 226, which is longer than the specified 200\n",
      "Created a chunk of size 580, which is longer than the specified 200\n",
      "Created a chunk of size 1970, which is longer than the specified 200\n",
      "Created a chunk of size 617, which is longer than the specified 200\n",
      "Created a chunk of size 312, which is longer than the specified 200\n",
      "Created a chunk of size 304, which is longer than the specified 200\n",
      "Created a chunk of size 389, which is longer than the specified 200\n",
      "Created a chunk of size 697, which is longer than the specified 200\n",
      "Created a chunk of size 841, which is longer than the specified 200\n",
      "Created a chunk of size 501, which is longer than the specified 200\n",
      "Created a chunk of size 743, which is longer than the specified 200\n",
      "Created a chunk of size 787, which is longer than the specified 200\n",
      "Created a chunk of size 1002, which is longer than the specified 200\n",
      "Created a chunk of size 239, which is longer than the specified 200\n",
      "Created a chunk of size 205, which is longer than the specified 200\n",
      "Created a chunk of size 950, which is longer than the specified 200\n",
      "Created a chunk of size 622, which is longer than the specified 200\n",
      "Created a chunk of size 632, which is longer than the specified 200\n",
      "Created a chunk of size 215, which is longer than the specified 200\n",
      "Created a chunk of size 394, which is longer than the specified 200\n",
      "Created a chunk of size 254, which is longer than the specified 200\n",
      "Created a chunk of size 335, which is longer than the specified 200\n",
      "Created a chunk of size 356, which is longer than the specified 200\n",
      "Created a chunk of size 362, which is longer than the specified 200\n",
      "Created a chunk of size 767, which is longer than the specified 200\n",
      "Created a chunk of size 314, which is longer than the specified 200\n",
      "Created a chunk of size 462, which is longer than the specified 200\n",
      "Created a chunk of size 478, which is longer than the specified 200\n",
      "Created a chunk of size 241, which is longer than the specified 200\n",
      "Created a chunk of size 734, which is longer than the specified 200\n",
      "Created a chunk of size 487, which is longer than the specified 200\n",
      "Created a chunk of size 565, which is longer than the specified 200\n",
      "Created a chunk of size 336, which is longer than the specified 200\n",
      "Created a chunk of size 265, which is longer than the specified 200\n",
      "Created a chunk of size 329, which is longer than the specified 200\n",
      "Created a chunk of size 310, which is longer than the specified 200\n",
      "Created a chunk of size 894, which is longer than the specified 200\n",
      "Created a chunk of size 443, which is longer than the specified 200\n",
      "Created a chunk of size 238, which is longer than the specified 200\n",
      "Created a chunk of size 292, which is longer than the specified 200\n",
      "Created a chunk of size 698, which is longer than the specified 200\n",
      "Created a chunk of size 456, which is longer than the specified 200\n",
      "Created a chunk of size 599, which is longer than the specified 200\n",
      "Created a chunk of size 394, which is longer than the specified 200\n",
      "Created a chunk of size 1322, which is longer than the specified 200\n",
      "Created a chunk of size 569, which is longer than the specified 200\n",
      "Created a chunk of size 357, which is longer than the specified 200\n",
      "Created a chunk of size 575, which is longer than the specified 200\n",
      "Created a chunk of size 377, which is longer than the specified 200\n",
      "Created a chunk of size 717, which is longer than the specified 200\n",
      "Created a chunk of size 394, which is longer than the specified 200\n",
      "Created a chunk of size 308, which is longer than the specified 200\n",
      "Created a chunk of size 328, which is longer than the specified 200\n",
      "Created a chunk of size 574, which is longer than the specified 200\n",
      "Created a chunk of size 469, which is longer than the specified 200\n",
      "Created a chunk of size 536, which is longer than the specified 200\n",
      "Created a chunk of size 264, which is longer than the specified 200\n",
      "Created a chunk of size 464, which is longer than the specified 200\n",
      "Created a chunk of size 255, which is longer than the specified 200\n",
      "Created a chunk of size 574, which is longer than the specified 200\n",
      "Created a chunk of size 202, which is longer than the specified 200\n",
      "Created a chunk of size 672, which is longer than the specified 200\n",
      "Created a chunk of size 553, which is longer than the specified 200\n",
      "Created a chunk of size 229, which is longer than the specified 200\n",
      "Created a chunk of size 561, which is longer than the specified 200\n",
      "Created a chunk of size 683, which is longer than the specified 200\n",
      "Created a chunk of size 317, which is longer than the specified 200\n",
      "Created a chunk of size 229, which is longer than the specified 200\n",
      "Created a chunk of size 249, which is longer than the specified 200\n",
      "Created a chunk of size 589, which is longer than the specified 200\n",
      "Created a chunk of size 390, which is longer than the specified 200\n",
      "Created a chunk of size 350, which is longer than the specified 200\n",
      "Created a chunk of size 258, which is longer than the specified 200\n",
      "Created a chunk of size 625, which is longer than the specified 200\n",
      "Created a chunk of size 427, which is longer than the specified 200\n",
      "Created a chunk of size 245, which is longer than the specified 200\n",
      "Created a chunk of size 1866, which is longer than the specified 200\n",
      "Created a chunk of size 251, which is longer than the specified 200\n",
      "Created a chunk of size 641, which is longer than the specified 200\n",
      "Created a chunk of size 404, which is longer than the specified 200\n",
      "Created a chunk of size 449, which is longer than the specified 200\n",
      "Created a chunk of size 615, which is longer than the specified 200\n",
      "Created a chunk of size 424, which is longer than the specified 200\n",
      "Created a chunk of size 281, which is longer than the specified 200\n",
      "Created a chunk of size 850, which is longer than the specified 200\n",
      "Created a chunk of size 401, which is longer than the specified 200\n",
      "Created a chunk of size 357, which is longer than the specified 200\n",
      "Created a chunk of size 252, which is longer than the specified 200\n",
      "Created a chunk of size 256, which is longer than the specified 200\n",
      "Created a chunk of size 268, which is longer than the specified 200\n",
      "Created a chunk of size 225, which is longer than the specified 200\n",
      "Created a chunk of size 458, which is longer than the specified 200\n",
      "Created a chunk of size 594, which is longer than the specified 200\n",
      "Created a chunk of size 317, which is longer than the specified 200\n",
      "Created a chunk of size 280, which is longer than the specified 200\n",
      "Created a chunk of size 444, which is longer than the specified 200\n",
      "Created a chunk of size 222, which is longer than the specified 200\n",
      "Created a chunk of size 343, which is longer than the specified 200\n",
      "Created a chunk of size 352, which is longer than the specified 200\n",
      "Created a chunk of size 259, which is longer than the specified 200\n",
      "Created a chunk of size 209, which is longer than the specified 200\n",
      "Created a chunk of size 334, which is longer than the specified 200\n",
      "Created a chunk of size 311, which is longer than the specified 200\n",
      "Created a chunk of size 212, which is longer than the specified 200\n",
      "Created a chunk of size 583, which is longer than the specified 200\n",
      "Created a chunk of size 206, which is longer than the specified 200\n",
      "Created a chunk of size 234, which is longer than the specified 200\n",
      "Created a chunk of size 497, which is longer than the specified 200\n",
      "Created a chunk of size 899, which is longer than the specified 200\n",
      "Created a chunk of size 302, which is longer than the specified 200\n",
      "Created a chunk of size 457, which is longer than the specified 200\n",
      "Created a chunk of size 341, which is longer than the specified 200\n",
      "Created a chunk of size 237, which is longer than the specified 200\n",
      "Created a chunk of size 203, which is longer than the specified 200\n",
      "Created a chunk of size 236, which is longer than the specified 200\n",
      "Created a chunk of size 563, which is longer than the specified 200\n",
      "Created a chunk of size 683, which is longer than the specified 200\n",
      "Created a chunk of size 402, which is longer than the specified 200\n",
      "Created a chunk of size 236, which is longer than the specified 200\n",
      "Created a chunk of size 280, which is longer than the specified 200\n",
      "Created a chunk of size 548, which is longer than the specified 200\n",
      "Created a chunk of size 336, which is longer than the specified 200\n",
      "Created a chunk of size 302, which is longer than the specified 200\n",
      "Created a chunk of size 542, which is longer than the specified 200\n",
      "Created a chunk of size 552, which is longer than the specified 200\n",
      "Created a chunk of size 580, which is longer than the specified 200\n",
      "Created a chunk of size 336, which is longer than the specified 200\n",
      "Created a chunk of size 302, which is longer than the specified 200\n",
      "Created a chunk of size 542, which is longer than the specified 200\n",
      "Created a chunk of size 552, which is longer than the specified 200\n",
      "Created a chunk of size 580, which is longer than the specified 200\n",
      "Created a chunk of size 240, which is longer than the specified 200\n",
      "Created a chunk of size 220, which is longer than the specified 200\n",
      "Created a chunk of size 393, which is longer than the specified 200\n",
      "Created a chunk of size 454, which is longer than the specified 200\n",
      "Created a chunk of size 414, which is longer than the specified 200\n",
      "Created a chunk of size 373, which is longer than the specified 200\n",
      "Created a chunk of size 567, which is longer than the specified 200\n",
      "Created a chunk of size 266, which is longer than the specified 200\n",
      "Created a chunk of size 285, which is longer than the specified 200\n",
      "Created a chunk of size 273, which is longer than the specified 200\n",
      "Created a chunk of size 454, which is longer than the specified 200\n",
      "Created a chunk of size 425, which is longer than the specified 200\n",
      "Created a chunk of size 422, which is longer than the specified 200\n",
      "Created a chunk of size 968, which is longer than the specified 200\n",
      "Created a chunk of size 231, which is longer than the specified 200\n",
      "Created a chunk of size 300, which is longer than the specified 200\n",
      "Created a chunk of size 245, which is longer than the specified 200\n",
      "Created a chunk of size 262, which is longer than the specified 200\n",
      "Created a chunk of size 215, which is longer than the specified 200\n",
      "Created a chunk of size 544, which is longer than the specified 200\n",
      "Created a chunk of size 229, which is longer than the specified 200\n",
      "Created a chunk of size 494, which is longer than the specified 200\n",
      "Created a chunk of size 209, which is longer than the specified 200\n",
      "Created a chunk of size 251, which is longer than the specified 200\n",
      "Created a chunk of size 310, which is longer than the specified 200\n",
      "Created a chunk of size 235, which is longer than the specified 200\n",
      "Created a chunk of size 454, which is longer than the specified 200\n",
      "Created a chunk of size 444, which is longer than the specified 200\n",
      "Created a chunk of size 470, which is longer than the specified 200\n",
      "Created a chunk of size 591, which is longer than the specified 200\n",
      "Created a chunk of size 276, which is longer than the specified 200\n",
      "Created a chunk of size 282, which is longer than the specified 200\n",
      "Created a chunk of size 432, which is longer than the specified 200\n",
      "Created a chunk of size 391, which is longer than the specified 200\n",
      "Created a chunk of size 207, which is longer than the specified 200\n",
      "Created a chunk of size 222, which is longer than the specified 200\n",
      "Created a chunk of size 214, which is longer than the specified 200\n",
      "Created a chunk of size 387, which is longer than the specified 200\n",
      "Created a chunk of size 654, which is longer than the specified 200\n",
      "Created a chunk of size 792, which is longer than the specified 200\n",
      "Created a chunk of size 740, which is longer than the specified 200\n",
      "Created a chunk of size 243, which is longer than the specified 200\n",
      "Created a chunk of size 238, which is longer than the specified 200\n",
      "Created a chunk of size 328, which is longer than the specified 200\n",
      "Created a chunk of size 473, which is longer than the specified 200\n",
      "Created a chunk of size 807, which is longer than the specified 200\n",
      "Created a chunk of size 303, which is longer than the specified 200\n",
      "Created a chunk of size 429, which is longer than the specified 200\n",
      "Created a chunk of size 472, which is longer than the specified 200\n",
      "Created a chunk of size 233, which is longer than the specified 200\n",
      "Created a chunk of size 382, which is longer than the specified 200\n",
      "Created a chunk of size 745, which is longer than the specified 200\n",
      "Created a chunk of size 895, which is longer than the specified 200\n",
      "Created a chunk of size 581, which is longer than the specified 200\n",
      "Created a chunk of size 1043, which is longer than the specified 200\n",
      "Created a chunk of size 389, which is longer than the specified 200\n",
      "Created a chunk of size 218, which is longer than the specified 200\n",
      "Created a chunk of size 244, which is longer than the specified 200\n",
      "Created a chunk of size 499, which is longer than the specified 200\n"
     ]
    }
   ],
   "source": [
    "from langchain.tools.retriever import create_retriever_tool\n",
    "\n",
    "retriever = get_reteriver()\n",
    "retriever_tool = create_retriever_tool(\n",
    "    retriever,\n",
    "    \"UCSC_Information_Retriever\",\n",
    "    \"Reterives information related to UCSC i.e University of California, Santa Cruz\",\n",
    ")\n",
    "\n",
    "tools = [retriever_tool]"
   ]
  },
  {
   "cell_type": "code",
   "execution_count": 4,
   "id": "205469de-6271-4267-b066-7b9488e16e00",
   "metadata": {},
   "outputs": [],
   "source": [
    "from typing import Annotated, Sequence\n",
    "from typing_extensions import TypedDict\n",
    "\n",
    "from langchain_core.messages import BaseMessage\n",
    "\n",
    "from langgraph.managed.is_last_step import RemainingSteps\n",
    "from langgraph.graph.message import add_messages\n",
    "\n",
    "class AgentState(TypedDict):\n",
    "    \"\"\"Holds the conversation messages and an optional counter for rewrite attempts.\"\"\"\n",
    "    # The add_messages function defines how an update should be processed\n",
    "    # Default is to replace. add_messages says \"append\"\n",
    "    messages: Annotated[Sequence[BaseMessage], add_messages]\n",
    "    # messages: Sequence[BaseMessage] \n",
    "\n",
    "    # Optional counter for tracking how many times we've tried rewriting\n",
    "    remaining_steps: RemainingSteps"
   ]
  },
  {
   "cell_type": "code",
   "execution_count": 5,
   "id": "46802804",
   "metadata": {},
   "outputs": [],
   "source": [
    "def rewrite_guard(state: AgentState) -> str:\n",
    "    \"\"\"\n",
    "    Increments the rewrite_attempts count in the state.\n",
    "    If rewrite_attempts >= 3, we stop rewriting and route to 'generate'.\n",
    "    Otherwise, we return 'agent' to try rewriting again.\n",
    "    \"\"\"\n",
    "    # If rewrite_attempts not initialized, set to 0\n",
    "    \n",
    "    if state[\"remaining_steps\"] <= 10:\n",
    "        return \"generate\"\n",
    "    else:\n",
    "        return \"agent\"\n",
    "\n",
    "    \n"
   ]
  },
  {
   "cell_type": "code",
   "execution_count": 6,
   "id": "70ae4d4f",
   "metadata": {},
   "outputs": [],
   "source": [
    "searched_docs = [] "
   ]
  },
  {
   "cell_type": "code",
   "execution_count": 7,
   "id": "fdd0f815-b29b-429d-9fad-d04304c70bcd",
   "metadata": {},
   "outputs": [
    {
     "name": "stdout",
     "output_type": "stream",
     "text": [
      "********************Prompt[rlm/rag-prompt]********************\n"
     ]
    },
    {
     "name": "stderr",
     "output_type": "stream",
     "text": [
      "d:\\AIEA Lab\\LLM Logic\\Agentic-RAG\\venv\\lib\\site-packages\\langsmith\\client.py:253: LangSmithMissingAPIKeyWarning: API key must be provided when using hosted LangSmith API\n",
      "  warnings.warn(\n"
     ]
    },
    {
     "name": "stdout",
     "output_type": "stream",
     "text": [
      "================================\u001b[1m Human Message \u001b[0m=================================\n",
      "\n",
      "You are an assistant for question-answering tasks. Use the following pieces of retrieved context to answer the question. If you don't know the answer, just say that you don't know. Use three sentences maximum and keep the answer concise.\n",
      "Question: \u001b[33;1m\u001b[1;3m{question}\u001b[0m \n",
      "Context: \u001b[33;1m\u001b[1;3m{context}\u001b[0m \n",
      "Answer:\n"
     ]
    }
   ],
   "source": [
    "from typing import Annotated, Literal, Sequence\n",
    "from typing_extensions import TypedDict\n",
    "\n",
    "from langchain import hub\n",
    "from langchain_core.messages import BaseMessage, HumanMessage\n",
    "from langchain_core.output_parsers import StrOutputParser\n",
    "from langchain_core.prompts import PromptTemplate\n",
    "from langchain_openai import ChatOpenAI\n",
    "\n",
    "from pydantic import BaseModel, Field\n",
    "\n",
    "\n",
    "from langgraph.prebuilt import tools_condition\n",
    "\n",
    "### Edges\n",
    "\n",
    "\n",
    "def grade_documents(state) -> Literal[\"generate\", \"rewrite\"]:\n",
    "    \"\"\"\n",
    "    Determines whether the retrieved documents are relevant to the question.\n",
    "\n",
    "    Args:\n",
    "        state (messages): The current state\n",
    "\n",
    "    Returns:\n",
    "        str: A decision for whether the documents are relevant or not\n",
    "    \"\"\"\n",
    "\n",
    "    print(\"---CHECK RELEVANCE---\")\n",
    "\n",
    "    # Data model\n",
    "    class grade(BaseModel):\n",
    "        \"\"\"Binary score for relevance check.\"\"\"\n",
    "\n",
    "        binary_score: str = Field(description=\"Relevance score 'yes' or 'no'\")\n",
    "\n",
    "    # LLM\n",
    "    model = ChatOpenAI(temperature=0, model=\"gpt-4o\", streaming=True)\n",
    "\n",
    "    # LLM with tool and validation\n",
    "    llm_with_tool = model.with_structured_output(grade)\n",
    "\n",
    "    # Prompt\n",
    "    prompt = PromptTemplate(\n",
    "        template=\"\"\"You are a grader assessing relevance of a retrieved document to a user question. \\n \n",
    "        Here is the retrieved document: \\n\\n {context} \\n\\n\n",
    "        Here is the user question: {question} \\n\n",
    "        If the document contains keyword(s) or semantic meaning related to the user question, grade it as relevant. \\n\n",
    "        Give a binary score 'yes' or 'no' score to indicate whether the document is relevant to the question.\"\"\",\n",
    "        input_variables=[\"context\", \"question\"],\n",
    "    )\n",
    "\n",
    "    # Chain\n",
    "    chain = prompt | llm_with_tool\n",
    "\n",
    "    messages = state[\"messages\"]\n",
    "    last_message = messages[-1]\n",
    "\n",
    "    question = messages[0].content\n",
    "    docs = last_message.content\n",
    "\n",
    "    scored_result = chain.invoke({\"question\": question, \"context\": docs})\n",
    "\n",
    "    score = scored_result.binary_score\n",
    "\n",
    "    if score == \"yes\":\n",
    "        print(\"---DECISION: DOCS RELEVANT---\")\n",
    "        # print(\"docs:\", docs, type(docs))\n",
    "        # searched_docs.append(docs)\n",
    "        return \"generate\"\n",
    "\n",
    "    else:\n",
    "        print(\"---DECISION: DOCS NOT RELEVANT---\")\n",
    "        print(score)\n",
    "        return \"rewrite\"\n",
    "\n",
    "\n",
    "### Nodes\n",
    "\n",
    "\n",
    "def agent(state):\n",
    "    \"\"\"\n",
    "    Invokes the agent model to generate a response based on the current state. Given\n",
    "    the question, it will decide to retrieve using the retriever tool, or simply end.\n",
    "\n",
    "    Args:\n",
    "        state (messages): The current state\n",
    "\n",
    "    Returns:\n",
    "        dict: The updated state with the agent response appended to messages\n",
    "    \"\"\"\n",
    "    print(\"---CALL AGENT---\")\n",
    "    messages = state[\"messages\"]\n",
    "    model = ChatOpenAI(temperature=0, streaming=True, model=\"gpt-4-turbo\")\n",
    "    model = model.bind_tools(tools)\n",
    "    response = model.invoke(messages)\n",
    "    # We return a list, because this will get added to the existing list\n",
    "    return {\"messages\": [response]}\n",
    "\n",
    "\n",
    "def rewrite(state):\n",
    "    \"\"\"\n",
    "    Transform the query to produce a better question.\n",
    "\n",
    "    Args:\n",
    "        state (messages): The current state\n",
    "\n",
    "    Returns:\n",
    "        dict: The updated state with re-phrased question\n",
    "    \"\"\"\n",
    "\n",
    "    print(\"---TRANSFORM QUERY---\")\n",
    "    messages = state[\"messages\"]\n",
    "    question = messages[0].content\n",
    "\n",
    "    msg = [\n",
    "        HumanMessage(\n",
    "            content=f\"\"\" \\n \n",
    "    Look at the input and try to reason about the underlying semantic intent / meaning. \\n \n",
    "    Here is the initial question:\n",
    "    \\n ------- \\n\n",
    "    {question} \n",
    "    \\n ------- \\n\n",
    "    Formulate an improved question: \"\"\",\n",
    "        )\n",
    "    ]\n",
    "\n",
    "    # Grader\n",
    "    model = ChatOpenAI(temperature=0, model=\"gpt-4-0125-preview\", streaming=True)\n",
    "    response = model.invoke(msg)\n",
    "    return {\"messages\": [response]}\n",
    "\n",
    "\n",
    "def generate(state):\n",
    "    \"\"\"\n",
    "    Generate answer\n",
    "\n",
    "    Args:\n",
    "        state (messages): The current state\n",
    "\n",
    "    Returns:\n",
    "         dict: The updated state with re-phrased question\n",
    "    \"\"\"\n",
    "    print(\"---GENERATE---\")\n",
    "    messages = state[\"messages\"]\n",
    "    question = messages[0].content\n",
    "    last_message = messages[-1]\n",
    "\n",
    "    docs = last_message.content\n",
    "    \n",
    "    searched_docs.append(docs)\n",
    "\n",
    "    # Prompt\n",
    "    prompt = hub.pull(\"rlm/rag-prompt\")\n",
    "\n",
    "    # LLM\n",
    "    llm = ChatOpenAI(model_name=\"gpt-4o-mini\", temperature=0, streaming=True)\n",
    "\n",
    "    # Post-processing\n",
    "    def format_docs(docs):\n",
    "        return \"\\n\\n\".join(doc.page_content for doc in docs)\n",
    "\n",
    "    # Chain\n",
    "    rag_chain = prompt | llm | StrOutputParser()\n",
    "\n",
    "    # Run\n",
    "    response = rag_chain.invoke({\"context\": docs, \"question\": question})\n",
    "    return {\"messages\": [response]}\n",
    "\n",
    "\n",
    "print(\"*\" * 20 + \"Prompt[rlm/rag-prompt]\" + \"*\" * 20)\n",
    "prompt = hub.pull(\"rlm/rag-prompt\").pretty_print()  # Show what the prompt looks like"
   ]
  },
  {
   "cell_type": "code",
   "execution_count": 8,
   "id": "08c95f4a-a927-45fe-9acc-0204f025d4d6",
   "metadata": {},
   "outputs": [],
   "source": [
    "from langgraph.graph import END, StateGraph, START\n",
    "from langgraph.prebuilt import ToolNode\n",
    "\n",
    "# Define a new graph\n",
    "workflow = StateGraph(AgentState)\n",
    "\n",
    "# Define the nodes we will cycle between\n",
    "workflow.add_node(\"agent\", agent)  # agent\n",
    "retrieve = ToolNode([retriever_tool])\n",
    "workflow.add_node(\"retrieve\", retrieve)  # retrieval\n",
    "workflow.add_node(\"rewrite\", rewrite)  # Re-writing the question\n",
    "workflow.add_node(\n",
    "    \"generate\", generate\n",
    ")  # Generating a response after we know the documents are relevant\n",
    "# Call agent node to decide to retrieve or not\n",
    "workflow.add_edge(START, \"agent\")\n",
    "\n",
    "# Decide whether to retrieve\n",
    "workflow.add_conditional_edges(\n",
    "    \"agent\",\n",
    "    # Assess agent decision\n",
    "    tools_condition,\n",
    "    {\n",
    "        # Translate the condition outputs to nodes in our graph\n",
    "        \"tools\": \"retrieve\",\n",
    "        END: END,\n",
    "    },\n",
    ")\n",
    "\n",
    "# Edges taken after the `action` node is called.\n",
    "workflow.add_conditional_edges(\n",
    "    \"retrieve\",\n",
    "    # Assess agent decision\n",
    "    grade_documents,\n",
    ")\n",
    "workflow.add_edge(\"generate\", END)\n",
    "workflow.add_edge(\"rewrite\", \"agent\")\n",
    "\n",
    "# Compile\n",
    "graph = workflow.compile()"
   ]
  },
  {
   "cell_type": "code",
   "execution_count": 9,
   "id": "b7b6db35",
   "metadata": {},
   "outputs": [],
   "source": [
    "from IPython.display import Image, display\n",
    "\n",
    "try:\n",
    "    display(Image(graph.get_graph(xray=True).draw_mermaid_png()))\n",
    "except Exception:\n",
    "    # This requires some extra dependencies and is optional\n",
    "    pass"
   ]
  },
  {
   "cell_type": "code",
   "execution_count": 55,
   "id": "48422cfc",
   "metadata": {},
   "outputs": [],
   "source": [
    "from langgraph.graph import END, StateGraph, START\n",
    "from langgraph.prebuilt import ToolNode\n",
    "\n",
    "# Define a new graph\n",
    "workflow = StateGraph(AgentState)\n",
    "\n",
    "# Define the nodes we will cycle between\n",
    "workflow.add_node(\"agent\", agent)  # agent\n",
    "retrieve = ToolNode([retriever_tool])\n",
    "workflow.add_node(\"retrieve\", retrieve)  # retrieval\n",
    "workflow.add_node(\"rewrite\", rewrite)  # Re-writing the question\n",
    "workflow.add_node(\n",
    "    \"generate\", generate\n",
    ")  # Generating a response after we know the documents are relevant\n",
    "# Call agent node to decide to retrieve or not\n",
    "workflow.add_edge(START, \"agent\")\n",
    "\n",
    "# Decide whether to retrieve\n",
    "workflow.add_conditional_edges(\n",
    "    \"agent\",\n",
    "    # Assess agent decision\n",
    "    tools_condition,\n",
    "    {\n",
    "        # Translate the condition outputs to nodes in our graph\n",
    "        \"tools\": \"retrieve\",\n",
    "        END: END,\n",
    "    },\n",
    ")\n",
    "\n",
    "# Edges taken after the `action` node is called.\n",
    "workflow.add_conditional_edges(\n",
    "    \"retrieve\",\n",
    "    # Assess agent decision\n",
    "    grade_documents,\n",
    ")\n",
    "workflow.add_conditional_edges(\n",
    "    \"rewrite\",\n",
    "    rewrite_guard,\n",
    "    {\n",
    "        \"agent\": \"agent\",\n",
    "        \"generate\": \"generate\",\n",
    "    }\n",
    ")\n",
    "workflow.add_edge(\"generate\", END)\n",
    "\n",
    "\n",
    "# Compile\n",
    "graph = workflow.compile()"
   ]
  },
  {
   "cell_type": "code",
   "execution_count": 56,
   "id": "51d831c0-fe42-4142-a79e-1ba1d1b5fe1f",
   "metadata": {},
   "outputs": [
    {
     "data": {
      "image/png": "[encoded data removed]",
      "text/plain": [
       "<IPython.core.display.Image object>"
      ]
     },
     "metadata": {},
     "output_type": "display_data"
    }
   ],
   "source": [
    "from IPython.display import Image, display\n",
    "\n",
    "try:\n",
    "    display(Image(graph.get_graph(xray=True).draw_mermaid_png()))\n",
    "except Exception:\n",
    "    # This requires some extra dependencies and is optional\n",
    "    pass"
   ]
  },
  {
   "cell_type": "code",
   "execution_count": 57,
   "id": "d3f72cc8-cfd1-42af-b3f3-9c444c49784c",
   "metadata": {},
   "outputs": [
    {
     "name": "stdout",
     "output_type": "stream",
     "text": [
      "---CALL AGENT---\n",
      "\"Output from node 'agent':\"\n",
      "'---'\n",
      "{ 'messages': [ AIMessage(content='', additional_kwargs={'tool_calls': [{'index': 0, 'id': 'call_Iv5xDRuKjl8QNwAhBEhjgrWB', 'function': {'arguments': '{\"query\": \"engineering school lower division class sizes\"}', 'name': 'UCSC_Information_Retriever'}, 'type': 'function'}, {'index': 1, 'id': 'call_wh4b9FXdthg68Sy1zcrgBSm9', 'function': {'arguments': '{\"query\": \"engineering school upper division class sizes\"}', 'name': 'UCSC_Information_Retriever'}, 'type': 'function'}]}, response_metadata={'finish_reason': 'tool_calls', 'model_name': 'gpt-4-turbo-2024-04-09', 'system_fingerprint': 'fp_f17929ee92'}, id='run-2e8badd6-d5b7-4f3e-99a4-3ed7d69b840a-0', tool_calls=[{'name': 'UCSC_Information_Retriever', 'args': {'query': 'engineering school lower division class sizes'}, 'id': 'call_Iv5xDRuKjl8QNwAhBEhjgrWB', 'type': 'tool_call'}, {'name': 'UCSC_Information_Retriever', 'args': {'query': 'engineering school upper division class sizes'}, 'id': 'call_wh4b9FXdthg68Sy1zcrgBSm9', 'type': 'tool_call'}])]}\n",
      "'\\n---\\n'\n",
      "---CHECK RELEVANCE---\n",
      "---DECISION: DOCS RELEVANT---\n",
      "\"Output from node 'retrieve':\"\n",
      "'---'\n",
      "{ 'messages': [ ToolMessage(content='To determine the class sizes for lower and upper division classes under the engineering school at UC Santa Cruz, you can refer to the Instructional Activity Dashboard provided by the Institutional Research, Analytics, and Planning Support (IRAPS). This dashboard provides detailed information on class sizes, including cross-listed classes, for different academic divisions and departments. Note that summer quarters are excluded from these calculations. You can access the dashboard for more detailed and specific data on class sizes on this website: https://iraps.ucsc.edu/iraps-public-dashboards/instructional-activity/class-sizes.html\\n\\nVarying Class Sizes\\nClass size varies depending on the course. While most classes have fewer than 40 students, larger introductory classes may have anywhere from 15-400 students. Intro classes tend to have large class sizes while upper-division classes are smaller.\\n\\nA student’s class level plays a large part in how many small classes are available. Introductory classes tend to be large, although they are usually accompanied by required small sections or laboratories. Many small classes have prerequisite courses that enroll large numbers of students. Also, certain large classes fulfill campuswide general education requirements. First-year students experience at least one small seminar in conjunction with the college core course, and they are likely to experience an increasing proportion of small classes as they progress to senior status.\\n\\nAdmit data\\nApplicants:\\n\\n71,700\\nAdmits:\\n\\n46,582\\nOverall admit rate:\\n\\n65.0%\\n\\n\\nGPA of middle 25%-75% students\\nHigh School GPA\\t3.87-4.22', name='UCSC_Information_Retriever', id='0415676e-626c-4cd0-8f20-f4a5241d00e2', tool_call_id='call_Iv5xDRuKjl8QNwAhBEhjgrWB'),\n",
      "                ToolMessage(content='To determine the class sizes for lower and upper division classes under the engineering school at UC Santa Cruz, you can refer to the Instructional Activity Dashboard provided by the Institutional Research, Analytics, and Planning Support (IRAPS). This dashboard provides detailed information on class sizes, including cross-listed classes, for different academic divisions and departments. Note that summer quarters are excluded from these calculations. You can access the dashboard for more detailed and specific data on class sizes on this website: https://iraps.ucsc.edu/iraps-public-dashboards/instructional-activity/class-sizes.html\\n\\nVarying Class Sizes\\nClass size varies depending on the course. While most classes have fewer than 40 students, larger introductory classes may have anywhere from 15-400 students. Intro classes tend to have large class sizes while upper-division classes are smaller.\\n\\nA student’s class level plays a large part in how many small classes are available. Introductory classes tend to be large, although they are usually accompanied by required small sections or laboratories. Many small classes have prerequisite courses that enroll large numbers of students. Also, certain large classes fulfill campuswide general education requirements. First-year students experience at least one small seminar in conjunction with the college core course, and they are likely to experience an increasing proportion of small classes as they progress to senior status.\\n\\nAdmit data\\nApplicants:\\n\\n71,700\\nAdmits:\\n\\n46,582\\nOverall admit rate:\\n\\n65.0%\\n\\n\\nGPA of middle 25%-75% students\\nHigh School GPA\\t3.87-4.22', name='UCSC_Information_Retriever', id='ef262dda-c076-44fc-959e-1f703db96afe', tool_call_id='call_wh4b9FXdthg68Sy1zcrgBSm9')]}\n",
      "'\\n---\\n'\n",
      "---GENERATE---\n"
     ]
    },
    {
     "name": "stderr",
     "output_type": "stream",
     "text": [
      "d:\\AIEA Lab\\LLM Logic\\Agentic-RAG\\venv\\lib\\site-packages\\langsmith\\client.py:253: LangSmithMissingAPIKeyWarning: API key must be provided when using hosted LangSmith API\n",
      "  warnings.warn(\n"
     ]
    },
    {
     "name": "stdout",
     "output_type": "stream",
     "text": [
      "\"Output from node 'generate':\"\n",
      "'---'\n",
      "{ 'messages': [ 'Class sizes for lower division classes in the engineering '\n",
      "                'school can vary significantly, with larger introductory '\n",
      "                'classes having anywhere from 15 to 400 students. In contrast, '\n",
      "                'upper division classes tend to be smaller, often having fewer '\n",
      "                'than 40 students. For specific data on class sizes, you can '\n",
      "                'refer to the Instructional Activity Dashboard provided by UC '\n",
      "                'Santa Cruz.']}\n",
      "'\\n---\\n'\n"
     ]
    }
   ],
   "source": [
    "import pprint\n",
    "\n",
    "inputs = {\n",
    "    \"messages\": [\n",
    "        (\"user\", \"What are the class sizes for the lower and upper division classes under the engineering school?\"),\n",
    "    ]\n",
    "}\n",
    "for output in graph.stream(inputs):\n",
    "    for key, value in output.items():\n",
    "        pprint.pprint(f\"Output from node '{key}':\")\n",
    "        pprint.pprint(\"---\")\n",
    "        pprint.pprint(value, indent=2, width=80, depth=None)\n",
    "    pprint.pprint(\"\\n---\\n\")"
   ]
  },
  {
   "cell_type": "code",
   "execution_count": 58,
   "id": "f426afcd",
   "metadata": {},
   "outputs": [
    {
     "name": "stdout",
     "output_type": "stream",
     "text": [
      "---CALL AGENT---\n",
      "---CHECK RELEVANCE---\n",
      "---DECISION: DOCS RELEVANT---\n",
      "---GENERATE---\n"
     ]
    },
    {
     "name": "stderr",
     "output_type": "stream",
     "text": [
      "d:\\AIEA Lab\\LLM Logic\\Agentic-RAG\\venv\\lib\\site-packages\\langsmith\\client.py:253: LangSmithMissingAPIKeyWarning: API key must be provided when using hosted LangSmith API\n",
      "  warnings.warn(\n"
     ]
    },
    {
     "name": "stdout",
     "output_type": "stream",
     "text": [
      "Class sizes for lower division classes in the engineering school can vary significantly, with larger introductory classes having anywhere from 15 to 400 students. In contrast, upper division classes tend to be smaller, often having fewer than 40 students. For specific data on class sizes, you can refer to the Instructional Activity Dashboard provided by UC Santa Cruz.\n"
     ]
    }
   ],
   "source": [
    "import pprint\n",
    "\n",
    "inputs = {\n",
    "    \"messages\": [\n",
    "        (\"user\", \"What are the class sizes for the lower and upper division classes under the engineering school?\"),\n",
    "    ]\n",
    "}\n",
    "message = \"\"\n",
    "for output in graph.stream(inputs):\n",
    "    for key, value in output.items():\n",
    "        message = value\n",
    "print(message[\"messages\"][0])"
   ]
  },
  {
   "cell_type": "code",
   "execution_count": 59,
   "id": "f628a1e5",
   "metadata": {},
   "outputs": [
    {
     "name": "stdout",
     "output_type": "stream",
     "text": [
      "---CALL AGENT---\n",
      "---CHECK RELEVANCE---\n",
      "---DECISION: DOCS RELEVANT---\n",
      "---GENERATE---\n"
     ]
    },
    {
     "name": "stderr",
     "output_type": "stream",
     "text": [
      "d:\\AIEA Lab\\LLM Logic\\Agentic-RAG\\venv\\lib\\site-packages\\langsmith\\client.py:253: LangSmithMissingAPIKeyWarning: API key must be provided when using hosted LangSmith API\n",
      "  warnings.warn(\n"
     ]
    },
    {
     "name": "stdout",
     "output_type": "stream",
     "text": [
      "Final Answer: The UC Santa Cruz Community Boating Center offers classes for beginners and experienced individuals in sailing, rowing, and kayaking. They provide opportunities for skill development and water safety, catering to various experience levels. Additionally, they host junior summer camps and quarterly physical education classes for UC Santa Cruz students.\n"
     ]
    }
   ],
   "source": [
    "def get_final_answer(query):\n",
    "    \"\"\"\n",
    "    Function to process a query and return the final answer using the RAG chain.\n",
    "    \n",
    "    Args:\n",
    "        query (str): The query string to replace the placeholder question.\n",
    "\n",
    "    Returns:\n",
    "        str: The final answer from the RAG chain output.\n",
    "    \"\"\"\n",
    "    inputs = {\n",
    "        \"messages\": [\n",
    "            (\"user\", query), \n",
    "        ]\n",
    "    }\n",
    "\n",
    "    \n",
    "    output = graph.invoke(inputs)\n",
    "    \n",
    "    # Extract and return the final answer\n",
    "    return output[\"messages\"][-1].content\n",
    "\n",
    "\n",
    "query = \"What classes does the boating center offer to community members?\"\n",
    "answer = get_final_answer(query)\n",
    "print(\"Final Answer:\", answer)\n"
   ]
  },
  {
   "cell_type": "code",
   "execution_count": 5,
   "id": "571e680a",
   "metadata": {},
   "outputs": [
    {
     "data": {
      "text/html": [
       "<div>\n",
       "<style scoped>\n",
       "    .dataframe tbody tr th:only-of-type {\n",
       "        vertical-align: middle;\n",
       "    }\n",
       "\n",
       "    .dataframe tbody tr th {\n",
       "        vertical-align: top;\n",
       "    }\n",
       "\n",
       "    .dataframe thead th {\n",
       "        text-align: right;\n",
       "    }\n",
       "</style>\n",
       "<table border=\"1\" class=\"dataframe\">\n",
       "  <thead>\n",
       "    <tr style=\"text-align: right;\">\n",
       "      <th></th>\n",
       "      <th>questions</th>\n",
       "      <th>answers</th>\n",
       "      <th>source_name</th>\n",
       "      <th>source</th>\n",
       "      <th>generated_response</th>\n",
       "      <th>source_docs</th>\n",
       "    </tr>\n",
       "    <tr>\n",
       "      <th>index</th>\n",
       "      <th></th>\n",
       "      <th></th>\n",
       "      <th></th>\n",
       "      <th></th>\n",
       "      <th></th>\n",
       "      <th></th>\n",
       "    </tr>\n",
       "  </thead>\n",
       "  <tbody>\n",
       "    <tr>\n",
       "      <th>0</th>\n",
       "      <td>Who can be a member of the Boating Club?</td>\n",
       "      <td>Everyone is welcome to join! If you do not hav...</td>\n",
       "      <td>UCSC Boating Recreation FQAs</td>\n",
       "      <td>https://recreation.ucsc.edu/boating/faq.html</td>\n",
       "      <td>Members of the Boating Club can include commun...</td>\n",
       "      <td>Our club exists to give community members, UC ...</td>\n",
       "    </tr>\n",
       "    <tr>\n",
       "      <th>1</th>\n",
       "      <td>What classes does the boating center offer to ...</td>\n",
       "      <td>We offer all levels of sailing (dinghy and kee...</td>\n",
       "      <td>UCSC Boating Recreation FQAs</td>\n",
       "      <td>https://recreation.ucsc.edu/boating/faq.html</td>\n",
       "      <td>The boating center offers classes for beginner...</td>\n",
       "      <td>UC Santa Cruz Community Boating Center is a co...</td>\n",
       "    </tr>\n",
       "    <tr>\n",
       "      <th>2</th>\n",
       "      <td>When is the boating club open?</td>\n",
       "      <td>The club is open year-round, Saturday and Sund...</td>\n",
       "      <td>UCSC Boating Recreation FQAs</td>\n",
       "      <td>https://recreation.ucsc.edu/boating/faq.html</td>\n",
       "      <td>The boating club is open on Saturday and Sunda...</td>\n",
       "      <td>Boating Club Hours\\r\\nThe Community Boating Ce...</td>\n",
       "    </tr>\n",
       "    <tr>\n",
       "      <th>3</th>\n",
       "      <td>What boats are available to members?</td>\n",
       "      <td>Sailing vessels for weekend use currently incl...</td>\n",
       "      <td>UCSC Boating Recreation FQAs</td>\n",
       "      <td>https://recreation.ucsc.edu/boating/faq.html</td>\n",
       "      <td>Members have access to the following sailing v...</td>\n",
       "      <td>Our boats:\\r\\nSailing vessels for weekend use ...</td>\n",
       "    </tr>\n",
       "    <tr>\n",
       "      <th>4</th>\n",
       "      <td>How much does a boating membership cost?</td>\n",
       "      <td>UCSC Student Membership: $45\\r\\nNon-Student Qu...</td>\n",
       "      <td>UCSC Boating Recreation FQAs</td>\n",
       "      <td>https://recreation.ucsc.edu/boating/faq.html</td>\n",
       "      <td>The provided context does not include any info...</td>\n",
       "      <td>There are a few minor fees associated with tak...</td>\n",
       "    </tr>\n",
       "    <tr>\n",
       "      <th>...</th>\n",
       "      <td>...</td>\n",
       "      <td>...</td>\n",
       "      <td>...</td>\n",
       "      <td>...</td>\n",
       "      <td>...</td>\n",
       "      <td>...</td>\n",
       "    </tr>\n",
       "    <tr>\n",
       "      <th>107</th>\n",
       "      <td>What if I don't fulfill the general education ...</td>\n",
       "      <td>If you don't satisfy general education require...</td>\n",
       "      <td>Undergraduate Admissions FAQ</td>\n",
       "      <td>https://admissions.ucsc.edu/resources-support/...</td>\n",
       "      <td>If you do not complete the IGETC or partial IG...</td>\n",
       "      <td>By the end of the fall term prior to transfer,...</td>\n",
       "    </tr>\n",
       "    <tr>\n",
       "      <th>108</th>\n",
       "      <td>What is UC TAP?</td>\n",
       "      <td>UC Transfer Admission Planner (UC TAP) is an o...</td>\n",
       "      <td>Undergraduate Admissions FAQ</td>\n",
       "      <td>https://admissions.ucsc.edu/resources-support/...</td>\n",
       "      <td>UC TAP, or the UC Transfer Admission Planner, ...</td>\n",
       "      <td>UCSC TPP\\r\\nUCSC TAG Step-by-Step\\r\\nComplete ...</td>\n",
       "    </tr>\n",
       "    <tr>\n",
       "      <th>109</th>\n",
       "      <td>When are acceptance notices sent out?</td>\n",
       "      <td>For fall quarter acceptance, notices are sent ...</td>\n",
       "      <td>Undergraduate Admissions FAQ</td>\n",
       "      <td>https://admissions.ucsc.edu/resources-support/...</td>\n",
       "      <td>The context does not specify when acceptance n...</td>\n",
       "      <td>First Year\\t\\r\\nApplication Submission\\r\\n\\r\\n...</td>\n",
       "    </tr>\n",
       "    <tr>\n",
       "      <th>110</th>\n",
       "      <td>What are the Cross-Campus and Simultaneous Enr...</td>\n",
       "      <td>Undergraduate students enrolled at UCSC may en...</td>\n",
       "      <td>Undergraduate Admissions FAQ</td>\n",
       "      <td>https://admissions.ucsc.edu/resources-support/...</td>\n",
       "      <td>The provided context does not include informat...</td>\n",
       "      <td>Graduating student\\r\\nDual Admission\\r\\nDual A...</td>\n",
       "    </tr>\n",
       "    <tr>\n",
       "      <th>111</th>\n",
       "      <td>Can I talk to an adviser during a campus visit?</td>\n",
       "      <td>Advisers are available to answer your question...</td>\n",
       "      <td>Undergraduate Admissions FAQ</td>\n",
       "      <td>https://admissions.ucsc.edu/resources-support/...</td>\n",
       "      <td>Yes, you can talk to an adviser during a campu...</td>\n",
       "      <td>Take a Campus Tour, and/or attend one of our E...</td>\n",
       "    </tr>\n",
       "  </tbody>\n",
       "</table>\n",
       "<p>112 rows × 6 columns</p>\n",
       "</div>"
      ],
      "text/plain": [
       "                                               questions  \\\n",
       "index                                                      \n",
       "0               Who can be a member of the Boating Club?   \n",
       "1      What classes does the boating center offer to ...   \n",
       "2                         When is the boating club open?   \n",
       "3                   What boats are available to members?   \n",
       "4               How much does a boating membership cost?   \n",
       "...                                                  ...   \n",
       "107    What if I don't fulfill the general education ...   \n",
       "108                                      What is UC TAP?   \n",
       "109                When are acceptance notices sent out?   \n",
       "110    What are the Cross-Campus and Simultaneous Enr...   \n",
       "111      Can I talk to an adviser during a campus visit?   \n",
       "\n",
       "                                                 answers  \\\n",
       "index                                                      \n",
       "0      Everyone is welcome to join! If you do not hav...   \n",
       "1      We offer all levels of sailing (dinghy and kee...   \n",
       "2      The club is open year-round, Saturday and Sund...   \n",
       "3      Sailing vessels for weekend use currently incl...   \n",
       "4      UCSC Student Membership: $45\\r\\nNon-Student Qu...   \n",
       "...                                                  ...   \n",
       "107    If you don't satisfy general education require...   \n",
       "108    UC Transfer Admission Planner (UC TAP) is an o...   \n",
       "109    For fall quarter acceptance, notices are sent ...   \n",
       "110    Undergraduate students enrolled at UCSC may en...   \n",
       "111    Advisers are available to answer your question...   \n",
       "\n",
       "                        source_name  \\\n",
       "index                                 \n",
       "0      UCSC Boating Recreation FQAs   \n",
       "1      UCSC Boating Recreation FQAs   \n",
       "2      UCSC Boating Recreation FQAs   \n",
       "3      UCSC Boating Recreation FQAs   \n",
       "4      UCSC Boating Recreation FQAs   \n",
       "...                             ...   \n",
       "107    Undergraduate Admissions FAQ   \n",
       "108    Undergraduate Admissions FAQ   \n",
       "109    Undergraduate Admissions FAQ   \n",
       "110    Undergraduate Admissions FAQ   \n",
       "111    Undergraduate Admissions FAQ   \n",
       "\n",
       "                                                  source  \\\n",
       "index                                                      \n",
       "0           https://recreation.ucsc.edu/boating/faq.html   \n",
       "1           https://recreation.ucsc.edu/boating/faq.html   \n",
       "2           https://recreation.ucsc.edu/boating/faq.html   \n",
       "3           https://recreation.ucsc.edu/boating/faq.html   \n",
       "4           https://recreation.ucsc.edu/boating/faq.html   \n",
       "...                                                  ...   \n",
       "107    https://admissions.ucsc.edu/resources-support/...   \n",
       "108    https://admissions.ucsc.edu/resources-support/...   \n",
       "109    https://admissions.ucsc.edu/resources-support/...   \n",
       "110    https://admissions.ucsc.edu/resources-support/...   \n",
       "111    https://admissions.ucsc.edu/resources-support/...   \n",
       "\n",
       "                                      generated_response  \\\n",
       "index                                                      \n",
       "0      Members of the Boating Club can include commun...   \n",
       "1      The boating center offers classes for beginner...   \n",
       "2      The boating club is open on Saturday and Sunda...   \n",
       "3      Members have access to the following sailing v...   \n",
       "4      The provided context does not include any info...   \n",
       "...                                                  ...   \n",
       "107    If you do not complete the IGETC or partial IG...   \n",
       "108    UC TAP, or the UC Transfer Admission Planner, ...   \n",
       "109    The context does not specify when acceptance n...   \n",
       "110    The provided context does not include informat...   \n",
       "111    Yes, you can talk to an adviser during a campu...   \n",
       "\n",
       "                                             source_docs  \n",
       "index                                                     \n",
       "0      Our club exists to give community members, UC ...  \n",
       "1      UC Santa Cruz Community Boating Center is a co...  \n",
       "2      Boating Club Hours\\r\\nThe Community Boating Ce...  \n",
       "3      Our boats:\\r\\nSailing vessels for weekend use ...  \n",
       "4      There are a few minor fees associated with tak...  \n",
       "...                                                  ...  \n",
       "107    By the end of the fall term prior to transfer,...  \n",
       "108    UCSC TPP\\r\\nUCSC TAG Step-by-Step\\r\\nComplete ...  \n",
       "109    First Year\\t\\r\\nApplication Submission\\r\\n\\r\\n...  \n",
       "110    Graduating student\\r\\nDual Admission\\r\\nDual A...  \n",
       "111    Take a Campus Tour, and/or attend one of our E...  \n",
       "\n",
       "[112 rows x 6 columns]"
      ]
     },
     "execution_count": 5,
     "metadata": {},
     "output_type": "execute_result"
    }
   ],
   "source": [
    "ucsc_qa_df = pd.read_csv(\"new_qa.csv\", index_col=0)\n",
    "ucsc_qa_df"
   ]
  },
  {
   "cell_type": "code",
   "execution_count": 38,
   "id": "6a37afdc",
   "metadata": {},
   "outputs": [
    {
     "data": {
      "text/html": [
       "<div>\n",
       "<style scoped>\n",
       "    .dataframe tbody tr th:only-of-type {\n",
       "        vertical-align: middle;\n",
       "    }\n",
       "\n",
       "    .dataframe tbody tr th {\n",
       "        vertical-align: top;\n",
       "    }\n",
       "\n",
       "    .dataframe thead th {\n",
       "        text-align: right;\n",
       "    }\n",
       "</style>\n",
       "<table border=\"1\" class=\"dataframe\">\n",
       "  <thead>\n",
       "    <tr style=\"text-align: right;\">\n",
       "      <th></th>\n",
       "      <th>questions</th>\n",
       "      <th>answers</th>\n",
       "      <th>source_name</th>\n",
       "      <th>source</th>\n",
       "      <th>generated_response</th>\n",
       "      <th>source_docs</th>\n",
       "    </tr>\n",
       "    <tr>\n",
       "      <th>index</th>\n",
       "      <th></th>\n",
       "      <th></th>\n",
       "      <th></th>\n",
       "      <th></th>\n",
       "      <th></th>\n",
       "      <th></th>\n",
       "    </tr>\n",
       "  </thead>\n",
       "  <tbody>\n",
       "    <tr>\n",
       "      <th>14</th>\n",
       "      <td>Am I eligible for UC SHIP if I've graduated?</td>\n",
       "      <td>Yes, you can be covered for one additional qua...</td>\n",
       "      <td>UCSC Student Health Center FQAs</td>\n",
       "      <td>https://healthcenter.ucsc.edu/billing-insuranc...</td>\n",
       "      <td>The context does not provide information about...</td>\n",
       "      <td>Our campus also awards the UC Health Insurance...</td>\n",
       "    </tr>\n",
       "  </tbody>\n",
       "</table>\n",
       "</div>"
      ],
      "text/plain": [
       "                                           questions  \\\n",
       "index                                                  \n",
       "14     Am I eligible for UC SHIP if I've graduated?    \n",
       "\n",
       "                                                 answers  \\\n",
       "index                                                      \n",
       "14     Yes, you can be covered for one additional qua...   \n",
       "\n",
       "                           source_name  \\\n",
       "index                                    \n",
       "14     UCSC Student Health Center FQAs   \n",
       "\n",
       "                                                  source  \\\n",
       "index                                                      \n",
       "14     https://healthcenter.ucsc.edu/billing-insuranc...   \n",
       "\n",
       "                                      generated_response  \\\n",
       "index                                                      \n",
       "14     The context does not provide information about...   \n",
       "\n",
       "                                             source_docs  \n",
       "index                                                     \n",
       "14     Our campus also awards the UC Health Insurance...  "
      ]
     },
     "execution_count": 38,
     "metadata": {},
     "output_type": "execute_result"
    }
   ],
   "source": [
    "ucsc_qa_df[14:15]"
   ]
  },
  {
   "cell_type": "code",
   "execution_count": 62,
   "id": "15463019",
   "metadata": {},
   "outputs": [],
   "source": [
    "searched_docs.clear()"
   ]
  },
  {
   "cell_type": "code",
   "execution_count": 64,
   "id": "0f6973a3",
   "metadata": {},
   "outputs": [
    {
     "data": {
      "text/plain": [
       "90"
      ]
     },
     "execution_count": 64,
     "metadata": {},
     "output_type": "execute_result"
    }
   ],
   "source": [
    "len(searched_docs)\n"
   ]
  },
  {
   "cell_type": "code",
   "execution_count": 41,
   "id": "2241fa57",
   "metadata": {},
   "outputs": [
    {
     "data": {
      "text/plain": [
       "112"
      ]
     },
     "execution_count": 41,
     "metadata": {},
     "output_type": "execute_result"
    }
   ],
   "source": [
    "len(ucsc_qa_df['questions'])"
   ]
  },
  {
   "cell_type": "code",
   "execution_count": 63,
   "id": "a25ed9ce-63d4-4242-b830-4c2285f12577",
   "metadata": {},
   "outputs": [
    {
     "name": "stdout",
     "output_type": "stream",
     "text": [
      "Processing question: Who can be a member of the Boating Club?\n",
      "Question count: 1\n",
      "---CALL AGENT---\n",
      "---CHECK RELEVANCE---\n",
      "---DECISION: DOCS RELEVANT---\n",
      "---GENERATE---\n"
     ]
    },
    {
     "name": "stderr",
     "output_type": "stream",
     "text": [
      "d:\\AIEA Lab\\LLM Logic\\Agentic-RAG\\venv\\lib\\site-packages\\langsmith\\client.py:253: LangSmithMissingAPIKeyWarning: API key must be provided when using hosted LangSmith API\n",
      "  warnings.warn(\n"
     ]
    },
    {
     "name": "stdout",
     "output_type": "stream",
     "text": [
      "Processing question: What classes does the boating center offer to community members?\n",
      "Question count: 2\n",
      "---CALL AGENT---\n",
      "---CHECK RELEVANCE---\n",
      "---DECISION: DOCS RELEVANT---\n",
      "---GENERATE---\n"
     ]
    },
    {
     "name": "stderr",
     "output_type": "stream",
     "text": [
      "d:\\AIEA Lab\\LLM Logic\\Agentic-RAG\\venv\\lib\\site-packages\\langsmith\\client.py:253: LangSmithMissingAPIKeyWarning: API key must be provided when using hosted LangSmith API\n",
      "  warnings.warn(\n"
     ]
    },
    {
     "name": "stdout",
     "output_type": "stream",
     "text": [
      "Processing question: When is the boating club open?\n",
      "Question count: 3\n",
      "---CALL AGENT---\n",
      "---CHECK RELEVANCE---\n",
      "---DECISION: DOCS RELEVANT---\n",
      "---GENERATE---\n"
     ]
    },
    {
     "name": "stderr",
     "output_type": "stream",
     "text": [
      "d:\\AIEA Lab\\LLM Logic\\Agentic-RAG\\venv\\lib\\site-packages\\langsmith\\client.py:253: LangSmithMissingAPIKeyWarning: API key must be provided when using hosted LangSmith API\n",
      "  warnings.warn(\n"
     ]
    },
    {
     "name": "stdout",
     "output_type": "stream",
     "text": [
      "Processing question: What boats are available to members?\n",
      "Question count: 4\n",
      "---CALL AGENT---\n",
      "---CHECK RELEVANCE---\n",
      "---DECISION: DOCS RELEVANT---\n",
      "---GENERATE---\n"
     ]
    },
    {
     "name": "stderr",
     "output_type": "stream",
     "text": [
      "d:\\AIEA Lab\\LLM Logic\\Agentic-RAG\\venv\\lib\\site-packages\\langsmith\\client.py:253: LangSmithMissingAPIKeyWarning: API key must be provided when using hosted LangSmith API\n",
      "  warnings.warn(\n"
     ]
    },
    {
     "name": "stdout",
     "output_type": "stream",
     "text": [
      "Processing question: How much does a boating membership cost?\n",
      "Question count: 5\n",
      "---CALL AGENT---\n",
      "Processing question: How do I sign up for a boating membership?\n",
      "Question count: 6\n",
      "---CALL AGENT---\n",
      "Processing question: How can I join the Boating Club?\n",
      "Question count: 7\n",
      "---CALL AGENT---\n",
      "---CHECK RELEVANCE---\n",
      "---DECISION: DOCS RELEVANT---\n",
      "---GENERATE---\n"
     ]
    },
    {
     "name": "stderr",
     "output_type": "stream",
     "text": [
      "d:\\AIEA Lab\\LLM Logic\\Agentic-RAG\\venv\\lib\\site-packages\\langsmith\\client.py:253: LangSmithMissingAPIKeyWarning: API key must be provided when using hosted LangSmith API\n",
      "  warnings.warn(\n"
     ]
    },
    {
     "name": "stdout",
     "output_type": "stream",
     "text": [
      "Processing question: Are there additional fees to take out the boats after I join the boating club?\n",
      "Question count: 8\n",
      "---CALL AGENT---\n",
      "---CHECK RELEVANCE---\n",
      "---DECISION: DOCS NOT RELEVANT---\n",
      "no\n",
      "---TRANSFORM QUERY---\n",
      "---CALL AGENT---\n",
      "Processing question: Do the boating club rent Kayaks?\n",
      "Question count: 9\n",
      "---CALL AGENT---\n",
      "---CHECK RELEVANCE---\n",
      "---DECISION: DOCS NOT RELEVANT---\n",
      "no\n",
      "---TRANSFORM QUERY---\n",
      "---CALL AGENT---\n",
      "Processing question: How can I get involved with the Boating Club?\n",
      "Question count: 10\n",
      "---CALL AGENT---\n",
      "---CHECK RELEVANCE---\n",
      "---DECISION: DOCS RELEVANT---\n",
      "---GENERATE---\n"
     ]
    },
    {
     "name": "stderr",
     "output_type": "stream",
     "text": [
      "d:\\AIEA Lab\\LLM Logic\\Agentic-RAG\\venv\\lib\\site-packages\\langsmith\\client.py:253: LangSmithMissingAPIKeyWarning: API key must be provided when using hosted LangSmith API\n",
      "  warnings.warn(\n"
     ]
    },
    {
     "name": "stdout",
     "output_type": "stream",
     "text": [
      "Processing question: Why is health insurance required at UCSC?\n",
      "Question count: 11\n",
      "---CALL AGENT---\n",
      "---CHECK RELEVANCE---\n",
      "---DECISION: DOCS RELEVANT---\n",
      "---GENERATE---\n"
     ]
    },
    {
     "name": "stderr",
     "output_type": "stream",
     "text": [
      "d:\\AIEA Lab\\LLM Logic\\Agentic-RAG\\venv\\lib\\site-packages\\langsmith\\client.py:253: LangSmithMissingAPIKeyWarning: API key must be provided when using hosted LangSmith API\n",
      "  warnings.warn(\n"
     ]
    },
    {
     "name": "stdout",
     "output_type": "stream",
     "text": [
      "Processing question: How do I get UC SHIP?\n",
      "Question count: 12\n",
      "---CALL AGENT---\n",
      "---CHECK RELEVANCE---\n",
      "---DECISION: DOCS RELEVANT---\n",
      "---GENERATE---\n"
     ]
    },
    {
     "name": "stderr",
     "output_type": "stream",
     "text": [
      "d:\\AIEA Lab\\LLM Logic\\Agentic-RAG\\venv\\lib\\site-packages\\langsmith\\client.py:253: LangSmithMissingAPIKeyWarning: API key must be provided when using hosted LangSmith API\n",
      "  warnings.warn(\n"
     ]
    },
    {
     "name": "stdout",
     "output_type": "stream",
     "text": [
      "Processing question: How do I get my UC SHIP ID card?\n",
      "Question count: 13\n",
      "---CALL AGENT---\n",
      "---CHECK RELEVANCE---\n",
      "---DECISION: DOCS NOT RELEVANT---\n",
      "no\n",
      "---TRANSFORM QUERY---\n",
      "---CALL AGENT---\n",
      "---CHECK RELEVANCE---\n",
      "---DECISION: DOCS NOT RELEVANT---\n",
      "no\n",
      "---TRANSFORM QUERY---\n",
      "---CALL AGENT---\n",
      "---CHECK RELEVANCE---\n",
      "---DECISION: DOCS NOT RELEVANT---\n",
      "no\n",
      "---TRANSFORM QUERY---\n",
      "---CALL AGENT---\n",
      "---CHECK RELEVANCE---\n",
      "---DECISION: DOCS NOT RELEVANT---\n",
      "no\n",
      "---TRANSFORM QUERY---\n",
      "---CALL AGENT---\n",
      "---CHECK RELEVANCE---\n",
      "---DECISION: DOCS NOT RELEVANT---\n",
      "no\n",
      "---TRANSFORM QUERY---\n",
      "---GENERATE---\n"
     ]
    },
    {
     "name": "stderr",
     "output_type": "stream",
     "text": [
      "d:\\AIEA Lab\\LLM Logic\\Agentic-RAG\\venv\\lib\\site-packages\\langsmith\\client.py:253: LangSmithMissingAPIKeyWarning: API key must be provided when using hosted LangSmith API\n",
      "  warnings.warn(\n"
     ]
    },
    {
     "name": "stdout",
     "output_type": "stream",
     "text": [
      "Processing question: Am I eligible if I opted out of UC SHIP last year?\n",
      "Question count: 14\n",
      "---CALL AGENT---\n",
      "---CHECK RELEVANCE---\n",
      "---DECISION: DOCS NOT RELEVANT---\n",
      "no\n",
      "---TRANSFORM QUERY---\n",
      "---CALL AGENT---\n",
      "Processing question: Am I eligible for UC SHIP if I've graduated? \n",
      "Question count: 15\n",
      "---CALL AGENT---\n",
      "---CHECK RELEVANCE---\n",
      "---DECISION: DOCS RELEVANT---\n",
      "---GENERATE---\n"
     ]
    },
    {
     "name": "stderr",
     "output_type": "stream",
     "text": [
      "d:\\AIEA Lab\\LLM Logic\\Agentic-RAG\\venv\\lib\\site-packages\\langsmith\\client.py:253: LangSmithMissingAPIKeyWarning: API key must be provided when using hosted LangSmith API\n",
      "  warnings.warn(\n"
     ]
    },
    {
     "name": "stdout",
     "output_type": "stream",
     "text": [
      "Processing question: How much does UC SHIP cost?\n",
      "Question count: 16\n",
      "---CALL AGENT---\n",
      "---CHECK RELEVANCE---\n",
      "---DECISION: DOCS NOT RELEVANT---\n",
      "no\n",
      "---TRANSFORM QUERY---\n",
      "---CALL AGENT---\n",
      "---CHECK RELEVANCE---\n",
      "---DECISION: DOCS RELEVANT---\n",
      "---GENERATE---\n"
     ]
    },
    {
     "name": "stderr",
     "output_type": "stream",
     "text": [
      "d:\\AIEA Lab\\LLM Logic\\Agentic-RAG\\venv\\lib\\site-packages\\langsmith\\client.py:253: LangSmithMissingAPIKeyWarning: API key must be provided when using hosted LangSmith API\n",
      "  warnings.warn(\n"
     ]
    },
    {
     "name": "stdout",
     "output_type": "stream",
     "text": [
      "Processing question: Will financial aid pay for my UC SHIP?\n",
      "Question count: 17\n",
      "---CALL AGENT---\n",
      "---CHECK RELEVANCE---\n",
      "---DECISION: DOCS RELEVANT---\n",
      "---GENERATE---\n"
     ]
    },
    {
     "name": "stderr",
     "output_type": "stream",
     "text": [
      "d:\\AIEA Lab\\LLM Logic\\Agentic-RAG\\venv\\lib\\site-packages\\langsmith\\client.py:253: LangSmithMissingAPIKeyWarning: API key must be provided when using hosted LangSmith API\n",
      "  warnings.warn(\n"
     ]
    },
    {
     "name": "stdout",
     "output_type": "stream",
     "text": [
      "Processing question: Will Medi-Cal pay for my UC SHIP?\n",
      "Question count: 18\n",
      "---CALL AGENT---\n",
      "---CHECK RELEVANCE---\n",
      "---DECISION: DOCS RELEVANT---\n",
      "---GENERATE---\n"
     ]
    },
    {
     "name": "stderr",
     "output_type": "stream",
     "text": [
      "d:\\AIEA Lab\\LLM Logic\\Agentic-RAG\\venv\\lib\\site-packages\\langsmith\\client.py:253: LangSmithMissingAPIKeyWarning: API key must be provided when using hosted LangSmith API\n",
      "  warnings.warn(\n"
     ]
    },
    {
     "name": "stdout",
     "output_type": "stream",
     "text": [
      "Processing question: Can I do research at Baskin Engineering?\n",
      "Question count: 19\n",
      "---CALL AGENT---\n",
      "---CHECK RELEVANCE---\n",
      "---DECISION: DOCS RELEVANT---\n",
      "---GENERATE---\n"
     ]
    },
    {
     "name": "stderr",
     "output_type": "stream",
     "text": [
      "d:\\AIEA Lab\\LLM Logic\\Agentic-RAG\\venv\\lib\\site-packages\\langsmith\\client.py:253: LangSmithMissingAPIKeyWarning: API key must be provided when using hosted LangSmith API\n",
      "  warnings.warn(\n"
     ]
    },
    {
     "name": "stdout",
     "output_type": "stream",
     "text": [
      "Processing question: Is there going to be time for extracurricular activities?\n",
      "Question count: 20\n",
      "---CALL AGENT---\n",
      "Processing question: How hard is it to get into undergrad classes?\n",
      "Question count: 21\n",
      "---CALL AGENT---\n",
      "---CHECK RELEVANCE---\n",
      "---DECISION: DOCS RELEVANT---\n",
      "---GENERATE---\n"
     ]
    },
    {
     "name": "stderr",
     "output_type": "stream",
     "text": [
      "d:\\AIEA Lab\\LLM Logic\\Agentic-RAG\\venv\\lib\\site-packages\\langsmith\\client.py:253: LangSmithMissingAPIKeyWarning: API key must be provided when using hosted LangSmith API\n",
      "  warnings.warn(\n"
     ]
    },
    {
     "name": "stdout",
     "output_type": "stream",
     "text": [
      "Processing question: What are the class sizes for the lower and upper division classes under the engineering school?\n",
      "Question count: 22\n",
      "---CALL AGENT---\n",
      "---CHECK RELEVANCE---\n",
      "---DECISION: DOCS RELEVANT---\n",
      "---GENERATE---\n"
     ]
    },
    {
     "name": "stderr",
     "output_type": "stream",
     "text": [
      "d:\\AIEA Lab\\LLM Logic\\Agentic-RAG\\venv\\lib\\site-packages\\langsmith\\client.py:253: LangSmithMissingAPIKeyWarning: API key must be provided when using hosted LangSmith API\n",
      "  warnings.warn(\n"
     ]
    },
    {
     "name": "stdout",
     "output_type": "stream",
     "text": [
      "Processing question: What is the diversity breakdown for engineering?\n",
      "Question count: 23\n",
      "---CALL AGENT---\n",
      "---CHECK RELEVANCE---\n",
      "---DECISION: DOCS RELEVANT---\n",
      "---GENERATE---\n"
     ]
    },
    {
     "name": "stderr",
     "output_type": "stream",
     "text": [
      "d:\\AIEA Lab\\LLM Logic\\Agentic-RAG\\venv\\lib\\site-packages\\langsmith\\client.py:253: LangSmithMissingAPIKeyWarning: API key must be provided when using hosted LangSmith API\n",
      "  warnings.warn(\n"
     ]
    },
    {
     "name": "stdout",
     "output_type": "stream",
     "text": [
      "Processing question: Is it hard to get help and talk to professors due to large class sizes? \n",
      "Question count: 24\n",
      "---CALL AGENT---\n",
      "---CHECK RELEVANCE---\n",
      "---DECISION: DOCS RELEVANT---\n",
      "---GENERATE---\n"
     ]
    },
    {
     "name": "stderr",
     "output_type": "stream",
     "text": [
      "d:\\AIEA Lab\\LLM Logic\\Agentic-RAG\\venv\\lib\\site-packages\\langsmith\\client.py:253: LangSmithMissingAPIKeyWarning: API key must be provided when using hosted LangSmith API\n",
      "  warnings.warn(\n"
     ]
    },
    {
     "name": "stdout",
     "output_type": "stream",
     "text": [
      "Processing question: Which residential college is best for incoming engineering students?\n",
      "Question count: 25\n",
      "---CALL AGENT---\n",
      "---CHECK RELEVANCE---\n",
      "---DECISION: DOCS RELEVANT---\n",
      "---GENERATE---\n"
     ]
    },
    {
     "name": "stderr",
     "output_type": "stream",
     "text": [
      "d:\\AIEA Lab\\LLM Logic\\Agentic-RAG\\venv\\lib\\site-packages\\langsmith\\client.py:253: LangSmithMissingAPIKeyWarning: API key must be provided when using hosted LangSmith API\n",
      "  warnings.warn(\n"
     ]
    },
    {
     "name": "stdout",
     "output_type": "stream",
     "text": [
      "Processing question: What majors are housed in the school of engineering?\n",
      "Question count: 26\n",
      "---CALL AGENT---\n",
      "---CHECK RELEVANCE---\n",
      "---DECISION: DOCS RELEVANT---\n",
      "---GENERATE---\n"
     ]
    },
    {
     "name": "stderr",
     "output_type": "stream",
     "text": [
      "d:\\AIEA Lab\\LLM Logic\\Agentic-RAG\\venv\\lib\\site-packages\\langsmith\\client.py:253: LangSmithMissingAPIKeyWarning: API key must be provided when using hosted LangSmith API\n",
      "  warnings.warn(\n"
     ]
    },
    {
     "name": "stdout",
     "output_type": "stream",
     "text": [
      "Processing question: Can I switch into computer science if I was accepted into another engineering program?\n",
      "Question count: 27\n",
      "---CALL AGENT---\n",
      "---CHECK RELEVANCE---\n",
      "---DECISION: DOCS RELEVANT---\n",
      "---GENERATE---\n"
     ]
    },
    {
     "name": "stderr",
     "output_type": "stream",
     "text": [
      "d:\\AIEA Lab\\LLM Logic\\Agentic-RAG\\venv\\lib\\site-packages\\langsmith\\client.py:253: LangSmithMissingAPIKeyWarning: API key must be provided when using hosted LangSmith API\n",
      "  warnings.warn(\n"
     ]
    },
    {
     "name": "stdout",
     "output_type": "stream",
     "text": [
      "Processing question: What relationship does Baskin Engineering have with tech in Silicon Valley?\n",
      "Question count: 28\n",
      "---CALL AGENT---\n",
      "---CHECK RELEVANCE---\n",
      "---DECISION: DOCS RELEVANT---\n",
      "---GENERATE---\n"
     ]
    },
    {
     "name": "stderr",
     "output_type": "stream",
     "text": [
      "d:\\AIEA Lab\\LLM Logic\\Agentic-RAG\\venv\\lib\\site-packages\\langsmith\\client.py:253: LangSmithMissingAPIKeyWarning: API key must be provided when using hosted LangSmith API\n",
      "  warnings.warn(\n"
     ]
    },
    {
     "name": "stdout",
     "output_type": "stream",
     "text": [
      "Processing question: What companies collaborate with the engineering school?\n",
      "Question count: 29\n",
      "---CALL AGENT---\n",
      "---CHECK RELEVANCE---\n",
      "---DECISION: DOCS RELEVANT---\n",
      "---GENERATE---\n"
     ]
    },
    {
     "name": "stderr",
     "output_type": "stream",
     "text": [
      "d:\\AIEA Lab\\LLM Logic\\Agentic-RAG\\venv\\lib\\site-packages\\langsmith\\client.py:253: LangSmithMissingAPIKeyWarning: API key must be provided when using hosted LangSmith API\n",
      "  warnings.warn(\n"
     ]
    },
    {
     "name": "stdout",
     "output_type": "stream",
     "text": [
      "Processing question: What internship opportunities are available to students?\n",
      "Question count: 30\n",
      "---CALL AGENT---\n",
      "---CHECK RELEVANCE---\n",
      "---DECISION: DOCS RELEVANT---\n",
      "---GENERATE---\n"
     ]
    },
    {
     "name": "stderr",
     "output_type": "stream",
     "text": [
      "d:\\AIEA Lab\\LLM Logic\\Agentic-RAG\\venv\\lib\\site-packages\\langsmith\\client.py:253: LangSmithMissingAPIKeyWarning: API key must be provided when using hosted LangSmith API\n",
      "  warnings.warn(\n"
     ]
    },
    {
     "name": "stdout",
     "output_type": "stream",
     "text": [
      "Processing question: What are the employment rates of new graduates?\n",
      "Question count: 31\n",
      "---CALL AGENT---\n",
      "---CHECK RELEVANCE---\n",
      "---DECISION: DOCS RELEVANT---\n",
      "---GENERATE---\n"
     ]
    },
    {
     "name": "stderr",
     "output_type": "stream",
     "text": [
      "d:\\AIEA Lab\\LLM Logic\\Agentic-RAG\\venv\\lib\\site-packages\\langsmith\\client.py:253: LangSmithMissingAPIKeyWarning: API key must be provided when using hosted LangSmith API\n",
      "  warnings.warn(\n"
     ]
    },
    {
     "name": "stdout",
     "output_type": "stream",
     "text": [
      "Processing question: Does UCSC offer a ____ major? How is the ___ major at UC Santa Cruz?\n",
      "Question count: 32\n",
      "---CALL AGENT---\n",
      "Processing question: Does UCSC offer a pre-med program? A business program? What about preparation to become a teacher?\n",
      "Question count: 33\n",
      "---CALL AGENT---\n",
      "---CHECK RELEVANCE---\n",
      "---DECISION: DOCS RELEVANT---\n",
      "---GENERATE---\n"
     ]
    },
    {
     "name": "stderr",
     "output_type": "stream",
     "text": [
      "d:\\AIEA Lab\\LLM Logic\\Agentic-RAG\\venv\\lib\\site-packages\\langsmith\\client.py:253: LangSmithMissingAPIKeyWarning: API key must be provided when using hosted LangSmith API\n",
      "  warnings.warn(\n"
     ]
    },
    {
     "name": "stdout",
     "output_type": "stream",
     "text": [
      "Processing question: May I apply to UCSC with an undeclared major? When must I declare a major?\n",
      "Question count: 34\n",
      "---CALL AGENT---\n",
      "---CHECK RELEVANCE---\n",
      "---DECISION: DOCS RELEVANT---\n",
      "---GENERATE---\n"
     ]
    },
    {
     "name": "stderr",
     "output_type": "stream",
     "text": [
      "d:\\AIEA Lab\\LLM Logic\\Agentic-RAG\\venv\\lib\\site-packages\\langsmith\\client.py:253: LangSmithMissingAPIKeyWarning: API key must be provided when using hosted LangSmith API\n",
      "  warnings.warn(\n"
     ]
    },
    {
     "name": "stdout",
     "output_type": "stream",
     "text": [
      "Processing question: How do you use alternate majors from the UC Application?\n",
      "Question count: 35\n",
      "---CALL AGENT---\n",
      "---CHECK RELEVANCE---\n",
      "---DECISION: DOCS RELEVANT---\n",
      "---GENERATE---\n"
     ]
    },
    {
     "name": "stderr",
     "output_type": "stream",
     "text": [
      "d:\\AIEA Lab\\LLM Logic\\Agentic-RAG\\venv\\lib\\site-packages\\langsmith\\client.py:253: LangSmithMissingAPIKeyWarning: API key must be provided when using hosted LangSmith API\n",
      "  warnings.warn(\n"
     ]
    },
    {
     "name": "stdout",
     "output_type": "stream",
     "text": [
      "Processing question: Can I double major?\n",
      "Question count: 36\n",
      "---CALL AGENT---\n",
      "---CHECK RELEVANCE---\n",
      "---DECISION: DOCS RELEVANT---\n",
      "---GENERATE---\n"
     ]
    },
    {
     "name": "stderr",
     "output_type": "stream",
     "text": [
      "d:\\AIEA Lab\\LLM Logic\\Agentic-RAG\\venv\\lib\\site-packages\\langsmith\\client.py:253: LangSmithMissingAPIKeyWarning: API key must be provided when using hosted LangSmith API\n",
      "  warnings.warn(\n"
     ]
    },
    {
     "name": "stdout",
     "output_type": "stream",
     "text": [
      "Processing question: How large are classes?\n",
      "Question count: 37\n",
      "---CALL AGENT---\n",
      "---CHECK RELEVANCE---\n",
      "---DECISION: DOCS RELEVANT---\n",
      "---GENERATE---\n"
     ]
    },
    {
     "name": "stderr",
     "output_type": "stream",
     "text": [
      "d:\\AIEA Lab\\LLM Logic\\Agentic-RAG\\venv\\lib\\site-packages\\langsmith\\client.py:253: LangSmithMissingAPIKeyWarning: API key must be provided when using hosted LangSmith API\n",
      "  warnings.warn(\n"
     ]
    },
    {
     "name": "stdout",
     "output_type": "stream",
     "text": [
      "Processing question: What are the graduation requirements?\n",
      "Question count: 38\n",
      "---CALL AGENT---\n",
      "---CHECK RELEVANCE---\n",
      "---DECISION: DOCS RELEVANT---\n",
      "---GENERATE---\n"
     ]
    },
    {
     "name": "stderr",
     "output_type": "stream",
     "text": [
      "d:\\AIEA Lab\\LLM Logic\\Agentic-RAG\\venv\\lib\\site-packages\\langsmith\\client.py:253: LangSmithMissingAPIKeyWarning: API key must be provided when using hosted LangSmith API\n",
      "  warnings.warn(\n"
     ]
    },
    {
     "name": "stdout",
     "output_type": "stream",
     "text": [
      "Processing question: What opportunities are there for early graduation?\n",
      "Question count: 39\n",
      "---CALL AGENT---\n",
      "---CHECK RELEVANCE---\n",
      "---DECISION: DOCS RELEVANT---\n",
      "---GENERATE---\n"
     ]
    },
    {
     "name": "stderr",
     "output_type": "stream",
     "text": [
      "d:\\AIEA Lab\\LLM Logic\\Agentic-RAG\\venv\\lib\\site-packages\\langsmith\\client.py:253: LangSmithMissingAPIKeyWarning: API key must be provided when using hosted LangSmith API\n",
      "  warnings.warn(\n"
     ]
    },
    {
     "name": "stdout",
     "output_type": "stream",
     "text": [
      "Processing question: What support do first-year students have? Do they have advisers?\n",
      "Question count: 40\n",
      "---CALL AGENT---\n",
      "---CHECK RELEVANCE---\n",
      "---DECISION: DOCS RELEVANT---\n",
      "---GENERATE---\n"
     ]
    },
    {
     "name": "stderr",
     "output_type": "stream",
     "text": [
      "d:\\AIEA Lab\\LLM Logic\\Agentic-RAG\\venv\\lib\\site-packages\\langsmith\\client.py:253: LangSmithMissingAPIKeyWarning: API key must be provided when using hosted LangSmith API\n",
      "  warnings.warn(\n"
     ]
    },
    {
     "name": "stdout",
     "output_type": "stream",
     "text": [
      "Processing question: What honors courses or programs are available?\n",
      "Question count: 41\n",
      "---CALL AGENT---\n",
      "---CHECK RELEVANCE---\n",
      "---DECISION: DOCS RELEVANT---\n",
      "---GENERATE---\n"
     ]
    },
    {
     "name": "stderr",
     "output_type": "stream",
     "text": [
      "d:\\AIEA Lab\\LLM Logic\\Agentic-RAG\\venv\\lib\\site-packages\\langsmith\\client.py:253: LangSmithMissingAPIKeyWarning: API key must be provided when using hosted LangSmith API\n",
      "  warnings.warn(\n"
     ]
    },
    {
     "name": "stdout",
     "output_type": "stream",
     "text": [
      "Processing question: How can I get a UC Santa Cruz catalog?\n",
      "Question count: 42\n",
      "---CALL AGENT---\n",
      "---CHECK RELEVANCE---\n",
      "---DECISION: DOCS RELEVANT---\n",
      "---GENERATE---\n"
     ]
    },
    {
     "name": "stderr",
     "output_type": "stream",
     "text": [
      "d:\\AIEA Lab\\LLM Logic\\Agentic-RAG\\venv\\lib\\site-packages\\langsmith\\client.py:253: LangSmithMissingAPIKeyWarning: API key must be provided when using hosted LangSmith API\n",
      "  warnings.warn(\n"
     ]
    },
    {
     "name": "stdout",
     "output_type": "stream",
     "text": [
      "Processing question: What is UC Santa Cruz's grading policy for undergraduates?\n",
      "Question count: 43\n",
      "---CALL AGENT---\n",
      "---CHECK RELEVANCE---\n",
      "---DECISION: DOCS NOT RELEVANT---\n",
      "no\n",
      "---TRANSFORM QUERY---\n",
      "---CALL AGENT---\n",
      "---CHECK RELEVANCE---\n",
      "---DECISION: DOCS NOT RELEVANT---\n",
      "no\n",
      "---TRANSFORM QUERY---\n",
      "---CALL AGENT---\n",
      "---CHECK RELEVANCE---\n",
      "---DECISION: DOCS NOT RELEVANT---\n",
      "no\n",
      "---TRANSFORM QUERY---\n",
      "---CALL AGENT---\n",
      "---CHECK RELEVANCE---\n",
      "---DECISION: DOCS NOT RELEVANT---\n",
      "no\n",
      "---TRANSFORM QUERY---\n",
      "---CALL AGENT---\n",
      "---CHECK RELEVANCE---\n",
      "---DECISION: DOCS NOT RELEVANT---\n",
      "no\n",
      "---TRANSFORM QUERY---\n",
      "---GENERATE---\n"
     ]
    },
    {
     "name": "stderr",
     "output_type": "stream",
     "text": [
      "d:\\AIEA Lab\\LLM Logic\\Agentic-RAG\\venv\\lib\\site-packages\\langsmith\\client.py:253: LangSmithMissingAPIKeyWarning: API key must be provided when using hosted LangSmith API\n",
      "  warnings.warn(\n"
     ]
    },
    {
     "name": "stdout",
     "output_type": "stream",
     "text": [
      "Processing question: What classes does UCSC Extension Silicon Valley provide?\n",
      "Question count: 44\n",
      "---CALL AGENT---\n",
      "---CHECK RELEVANCE---\n",
      "---DECISION: DOCS NOT RELEVANT---\n",
      "no\n",
      "---TRANSFORM QUERY---\n",
      "---CALL AGENT---\n",
      "---CHECK RELEVANCE---\n",
      "---DECISION: DOCS NOT RELEVANT---\n",
      "no\n",
      "---TRANSFORM QUERY---\n",
      "---CALL AGENT---\n",
      "---CHECK RELEVANCE---\n",
      "---DECISION: DOCS RELEVANT---\n",
      "---GENERATE---\n"
     ]
    },
    {
     "name": "stderr",
     "output_type": "stream",
     "text": [
      "d:\\AIEA Lab\\LLM Logic\\Agentic-RAG\\venv\\lib\\site-packages\\langsmith\\client.py:253: LangSmithMissingAPIKeyWarning: API key must be provided when using hosted LangSmith API\n",
      "  warnings.warn(\n"
     ]
    },
    {
     "name": "stdout",
     "output_type": "stream",
     "text": [
      "Processing question: How are you making your admissions decisions?\n",
      "Question count: 45\n",
      "---CALL AGENT---\n",
      "---CHECK RELEVANCE---\n",
      "---DECISION: DOCS RELEVANT---\n",
      "---GENERATE---\n"
     ]
    },
    {
     "name": "stderr",
     "output_type": "stream",
     "text": [
      "d:\\AIEA Lab\\LLM Logic\\Agentic-RAG\\venv\\lib\\site-packages\\langsmith\\client.py:253: LangSmithMissingAPIKeyWarning: API key must be provided when using hosted LangSmith API\n",
      "  warnings.warn(\n"
     ]
    },
    {
     "name": "stdout",
     "output_type": "stream",
     "text": [
      "Processing question: Did you admit any out-of-state or international students?\n",
      "Question count: 46\n",
      "---CALL AGENT---\n",
      "---CHECK RELEVANCE---\n",
      "---DECISION: DOCS RELEVANT---\n",
      "---GENERATE---\n"
     ]
    },
    {
     "name": "stderr",
     "output_type": "stream",
     "text": [
      "d:\\AIEA Lab\\LLM Logic\\Agentic-RAG\\venv\\lib\\site-packages\\langsmith\\client.py:253: LangSmithMissingAPIKeyWarning: API key must be provided when using hosted LangSmith API\n",
      "  warnings.warn(\n"
     ]
    },
    {
     "name": "stdout",
     "output_type": "stream",
     "text": [
      "Processing question: Does UCSC have a waitlist?\n",
      "Question count: 47\n",
      "---CALL AGENT---\n",
      "---CHECK RELEVANCE---\n",
      "---DECISION: DOCS RELEVANT---\n",
      "---GENERATE---\n"
     ]
    },
    {
     "name": "stderr",
     "output_type": "stream",
     "text": [
      "d:\\AIEA Lab\\LLM Logic\\Agentic-RAG\\venv\\lib\\site-packages\\langsmith\\client.py:253: LangSmithMissingAPIKeyWarning: API key must be provided when using hosted LangSmith API\n",
      "  warnings.warn(\n"
     ]
    },
    {
     "name": "stdout",
     "output_type": "stream",
     "text": [
      "Processing question: If I was not selected for admission, may I appeal the decision?\n",
      "Question count: 48\n",
      "---CALL AGENT---\n",
      "---CHECK RELEVANCE---\n",
      "---DECISION: DOCS RELEVANT---\n",
      "---GENERATE---\n"
     ]
    },
    {
     "name": "stderr",
     "output_type": "stream",
     "text": [
      "d:\\AIEA Lab\\LLM Logic\\Agentic-RAG\\venv\\lib\\site-packages\\langsmith\\client.py:253: LangSmithMissingAPIKeyWarning: API key must be provided when using hosted LangSmith API\n",
      "  warnings.warn(\n"
     ]
    },
    {
     "name": "stdout",
     "output_type": "stream",
     "text": [
      "Processing question: What is Dual Admission?\n",
      "Question count: 49\n",
      "---CALL AGENT---\n",
      "---CHECK RELEVANCE---\n",
      "---DECISION: DOCS RELEVANT---\n",
      "---GENERATE---\n"
     ]
    },
    {
     "name": "stderr",
     "output_type": "stream",
     "text": [
      "d:\\AIEA Lab\\LLM Logic\\Agentic-RAG\\venv\\lib\\site-packages\\langsmith\\client.py:253: LangSmithMissingAPIKeyWarning: API key must be provided when using hosted LangSmith API\n",
      "  warnings.warn(\n"
     ]
    },
    {
     "name": "stdout",
     "output_type": "stream",
     "text": [
      "Processing question: How do you make your admissions decisions?\n",
      "Question count: 50\n",
      "---CALL AGENT---\n",
      "---CHECK RELEVANCE---\n",
      "---DECISION: DOCS RELEVANT---\n",
      "---GENERATE---\n"
     ]
    },
    {
     "name": "stderr",
     "output_type": "stream",
     "text": [
      "d:\\AIEA Lab\\LLM Logic\\Agentic-RAG\\venv\\lib\\site-packages\\langsmith\\client.py:253: LangSmithMissingAPIKeyWarning: API key must be provided when using hosted LangSmith API\n",
      "  warnings.warn(\n"
     ]
    },
    {
     "name": "stdout",
     "output_type": "stream",
     "text": [
      "Processing question: Is choice of major one of your criteria for admission/selection?\n",
      "Question count: 51\n",
      "---CALL AGENT---\n",
      "---CHECK RELEVANCE---\n",
      "---DECISION: DOCS RELEVANT---\n",
      "---GENERATE---\n"
     ]
    },
    {
     "name": "stderr",
     "output_type": "stream",
     "text": [
      "d:\\AIEA Lab\\LLM Logic\\Agentic-RAG\\venv\\lib\\site-packages\\langsmith\\client.py:253: LangSmithMissingAPIKeyWarning: API key must be provided when using hosted LangSmith API\n",
      "  warnings.warn(\n"
     ]
    },
    {
     "name": "stdout",
     "output_type": "stream",
     "text": [
      "Processing question: I want to change the major that I listed on my application. Is that possible?\n",
      "Question count: 52\n",
      "---CALL AGENT---\n",
      "---CHECK RELEVANCE---\n",
      "---DECISION: DOCS RELEVANT---\n",
      "---GENERATE---\n"
     ]
    },
    {
     "name": "stderr",
     "output_type": "stream",
     "text": [
      "d:\\AIEA Lab\\LLM Logic\\Agentic-RAG\\venv\\lib\\site-packages\\langsmith\\client.py:253: LangSmithMissingAPIKeyWarning: API key must be provided when using hosted LangSmith API\n",
      "  warnings.warn(\n"
     ]
    },
    {
     "name": "stdout",
     "output_type": "stream",
     "text": [
      "Processing question: Do you take fall term grades into account?\n",
      "Question count: 53\n",
      "---CALL AGENT---\n",
      "---CHECK RELEVANCE---\n",
      "---DECISION: DOCS RELEVANT---\n",
      "---GENERATE---\n"
     ]
    },
    {
     "name": "stderr",
     "output_type": "stream",
     "text": [
      "d:\\AIEA Lab\\LLM Logic\\Agentic-RAG\\venv\\lib\\site-packages\\langsmith\\client.py:253: LangSmithMissingAPIKeyWarning: API key must be provided when using hosted LangSmith API\n",
      "  warnings.warn(\n"
     ]
    },
    {
     "name": "stdout",
     "output_type": "stream",
     "text": [
      "Processing question: Do you give any preference for local students?\n",
      "Question count: 54\n",
      "---CALL AGENT---\n",
      "---CHECK RELEVANCE---\n",
      "---DECISION: DOCS NOT RELEVANT---\n",
      "no\n",
      "---TRANSFORM QUERY---\n",
      "---CALL AGENT---\n",
      "---CHECK RELEVANCE---\n",
      "---DECISION: DOCS NOT RELEVANT---\n",
      "no\n",
      "---TRANSFORM QUERY---\n",
      "---CALL AGENT---\n",
      "Processing question: How are you able to let some students know their decision before other students?\n",
      "Question count: 55\n",
      "---CALL AGENT---\n",
      "Processing question: Do you take any out-of-state or international students?\n",
      "Question count: 56\n",
      "---CALL AGENT---\n",
      "---CHECK RELEVANCE---\n",
      "---DECISION: DOCS RELEVANT---\n",
      "---GENERATE---\n"
     ]
    },
    {
     "name": "stderr",
     "output_type": "stream",
     "text": [
      "d:\\AIEA Lab\\LLM Logic\\Agentic-RAG\\venv\\lib\\site-packages\\langsmith\\client.py:253: LangSmithMissingAPIKeyWarning: API key must be provided when using hosted LangSmith API\n",
      "  warnings.warn(\n"
     ]
    },
    {
     "name": "stdout",
     "output_type": "stream",
     "text": [
      "Processing question: I think you made a mistake and I'd like to appeal. Do you have an appeals process?\n",
      "Question count: 57\n",
      "---CALL AGENT---\n",
      "Processing question: I don't want to appeal because I think a mistake has been made. Can you tell me how I can get your decision changed?\n",
      "Question count: 58\n",
      "---CALL AGENT---\n",
      "Processing question: Have you set aside a specific number of admission spaces for appeal cases?\n",
      "Question count: 59\n",
      "---CALL AGENT---\n",
      "---CHECK RELEVANCE---\n",
      "---DECISION: DOCS NOT RELEVANT---\n",
      "no\n",
      "---TRANSFORM QUERY---\n",
      "---CALL AGENT---\n",
      "Processing question: When will I know a decision on my appeal?\n",
      "Question count: 60\n",
      "---CALL AGENT---\n",
      "---CHECK RELEVANCE---\n",
      "---DECISION: DOCS RELEVANT---\n",
      "---GENERATE---\n"
     ]
    },
    {
     "name": "stderr",
     "output_type": "stream",
     "text": [
      "d:\\AIEA Lab\\LLM Logic\\Agentic-RAG\\venv\\lib\\site-packages\\langsmith\\client.py:253: LangSmithMissingAPIKeyWarning: API key must be provided when using hosted LangSmith API\n",
      "  warnings.warn(\n"
     ]
    },
    {
     "name": "stdout",
     "output_type": "stream",
     "text": [
      "Processing question: If my appeal for fall admission is denied, what are my chances for winter admission?\n",
      "Question count: 61\n",
      "---CALL AGENT---\n",
      "---CHECK RELEVANCE---\n",
      "---DECISION: DOCS NOT RELEVANT---\n",
      "no\n",
      "---TRANSFORM QUERY---\n",
      "---CALL AGENT---\n",
      "Processing question: Does UCSC have a waitlist?\n",
      "Question count: 62\n",
      "---CALL AGENT---\n",
      "---CHECK RELEVANCE---\n",
      "---DECISION: DOCS RELEVANT---\n",
      "---GENERATE---\n"
     ]
    },
    {
     "name": "stderr",
     "output_type": "stream",
     "text": [
      "d:\\AIEA Lab\\LLM Logic\\Agentic-RAG\\venv\\lib\\site-packages\\langsmith\\client.py:253: LangSmithMissingAPIKeyWarning: API key must be provided when using hosted LangSmith API\n",
      "  warnings.warn(\n"
     ]
    },
    {
     "name": "stdout",
     "output_type": "stream",
     "text": [
      "Processing question: Can I apply for spring quarter?\n",
      "Question count: 63\n",
      "---CALL AGENT---\n",
      "---CHECK RELEVANCE---\n",
      "---DECISION: DOCS RELEVANT---\n",
      "---GENERATE---\n"
     ]
    },
    {
     "name": "stderr",
     "output_type": "stream",
     "text": [
      "d:\\AIEA Lab\\LLM Logic\\Agentic-RAG\\venv\\lib\\site-packages\\langsmith\\client.py:253: LangSmithMissingAPIKeyWarning: API key must be provided when using hosted LangSmith API\n",
      "  warnings.warn(\n"
     ]
    },
    {
     "name": "stdout",
     "output_type": "stream",
     "text": [
      "Processing question: What is the waitlist?\n",
      "Question count: 64\n",
      "---CALL AGENT---\n",
      "---CHECK RELEVANCE---\n",
      "---DECISION: DOCS RELEVANT---\n",
      "---GENERATE---\n"
     ]
    },
    {
     "name": "stderr",
     "output_type": "stream",
     "text": [
      "d:\\AIEA Lab\\LLM Logic\\Agentic-RAG\\venv\\lib\\site-packages\\langsmith\\client.py:253: LangSmithMissingAPIKeyWarning: API key must be provided when using hosted LangSmith API\n",
      "  warnings.warn(\n"
     ]
    },
    {
     "name": "stdout",
     "output_type": "stream",
     "text": [
      "Processing question: How will I know that I've been offered a place on the UCSC waitlist?\n",
      "Question count: 65\n",
      "---CALL AGENT---\n",
      "---CHECK RELEVANCE---\n",
      "---DECISION: DOCS NOT RELEVANT---\n",
      "no\n",
      "---TRANSFORM QUERY---\n",
      "---CALL AGENT---\n",
      "Processing question: I had good grades and took a broad range of challenging courses at my prior high school or community college. Why wasn’t I admitted?\n",
      "Question count: 66\n",
      "---CALL AGENT---\n",
      "---CHECK RELEVANCE---\n",
      "---DECISION: DOCS RELEVANT---\n",
      "---GENERATE---\n"
     ]
    },
    {
     "name": "stderr",
     "output_type": "stream",
     "text": [
      "d:\\AIEA Lab\\LLM Logic\\Agentic-RAG\\venv\\lib\\site-packages\\langsmith\\client.py:253: LangSmithMissingAPIKeyWarning: API key must be provided when using hosted LangSmith API\n",
      "  warnings.warn(\n"
     ]
    },
    {
     "name": "stdout",
     "output_type": "stream",
     "text": [
      "Processing question: Am I on the waitlist automatically?\n",
      "Question count: 67\n",
      "---CALL AGENT---\n",
      "Processing question: If I am on the waitlist for UCSC, what are my chances of being admitted?\n",
      "Question count: 68\n",
      "---CALL AGENT---\n",
      "---CHECK RELEVANCE---\n",
      "---DECISION: DOCS RELEVANT---\n",
      "---GENERATE---\n"
     ]
    },
    {
     "name": "stderr",
     "output_type": "stream",
     "text": [
      "d:\\AIEA Lab\\LLM Logic\\Agentic-RAG\\venv\\lib\\site-packages\\langsmith\\client.py:253: LangSmithMissingAPIKeyWarning: API key must be provided when using hosted LangSmith API\n",
      "  warnings.warn(\n"
     ]
    },
    {
     "name": "stdout",
     "output_type": "stream",
     "text": [
      "Processing question: What number am I on the waitlist?\n",
      "Question count: 69\n",
      "---CALL AGENT---\n",
      "Processing question: How will I find out if I get an offer of admission?\n",
      "Question count: 70\n",
      "---CALL AGENT---\n",
      "---CHECK RELEVANCE---\n",
      "---DECISION: DOCS RELEVANT---\n",
      "---GENERATE---\n"
     ]
    },
    {
     "name": "stderr",
     "output_type": "stream",
     "text": [
      "d:\\AIEA Lab\\LLM Logic\\Agentic-RAG\\venv\\lib\\site-packages\\langsmith\\client.py:253: LangSmithMissingAPIKeyWarning: API key must be provided when using hosted LangSmith API\n",
      "  warnings.warn(\n"
     ]
    },
    {
     "name": "stdout",
     "output_type": "stream",
     "text": [
      "Processing question: What if I already accepted an offer to another UC campus?\n",
      "Question count: 71\n",
      "---CALL AGENT---\n",
      "---CHECK RELEVANCE---\n",
      "---DECISION: DOCS RELEVANT---\n",
      "---GENERATE---\n"
     ]
    },
    {
     "name": "stderr",
     "output_type": "stream",
     "text": [
      "d:\\AIEA Lab\\LLM Logic\\Agentic-RAG\\venv\\lib\\site-packages\\langsmith\\client.py:253: LangSmithMissingAPIKeyWarning: API key must be provided when using hosted LangSmith API\n",
      "  warnings.warn(\n"
     ]
    },
    {
     "name": "stdout",
     "output_type": "stream",
     "text": [
      "Processing question: Can I be on a waitlist for more than one UC campus?\n",
      "Question count: 72\n",
      "---CALL AGENT---\n",
      "---CHECK RELEVANCE---\n",
      "---DECISION: DOCS RELEVANT---\n",
      "---GENERATE---\n"
     ]
    },
    {
     "name": "stderr",
     "output_type": "stream",
     "text": [
      "d:\\AIEA Lab\\LLM Logic\\Agentic-RAG\\venv\\lib\\site-packages\\langsmith\\client.py:253: LangSmithMissingAPIKeyWarning: API key must be provided when using hosted LangSmith API\n",
      "  warnings.warn(\n"
     ]
    },
    {
     "name": "stdout",
     "output_type": "stream",
     "text": [
      "Processing question: What if I am on the waitlist for UCSC, and I receive an offer from another university outside the University of California system?\n",
      "Question count: 73\n",
      "---CALL AGENT---\n",
      "---CHECK RELEVANCE---\n",
      "---DECISION: DOCS RELEVANT---\n",
      "---GENERATE---\n"
     ]
    },
    {
     "name": "stderr",
     "output_type": "stream",
     "text": [
      "d:\\AIEA Lab\\LLM Logic\\Agentic-RAG\\venv\\lib\\site-packages\\langsmith\\client.py:253: LangSmithMissingAPIKeyWarning: API key must be provided when using hosted LangSmith API\n",
      "  warnings.warn(\n"
     ]
    },
    {
     "name": "stdout",
     "output_type": "stream",
     "text": [
      "Processing question: If I’m admitted from the waitlist, will I still be eligible for financial aid?\n",
      "Question count: 74\n",
      "---CALL AGENT---\n",
      "---CHECK RELEVANCE---\n",
      "---DECISION: DOCS NOT RELEVANT---\n",
      "no\n",
      "---TRANSFORM QUERY---\n",
      "---CALL AGENT---\n",
      "---CHECK RELEVANCE---\n",
      "---DECISION: DOCS NOT RELEVANT---\n",
      "no\n",
      "---TRANSFORM QUERY---\n",
      "---CALL AGENT---\n",
      "---CHECK RELEVANCE---\n",
      "---DECISION: DOCS NOT RELEVANT---\n",
      "no\n",
      "---TRANSFORM QUERY---\n",
      "---CALL AGENT---\n",
      "---CHECK RELEVANCE---\n",
      "---DECISION: DOCS NOT RELEVANT---\n",
      "no\n",
      "---TRANSFORM QUERY---\n",
      "---CALL AGENT---\n",
      "---CHECK RELEVANCE---\n",
      "---DECISION: DOCS NOT RELEVANT---\n",
      "no\n",
      "---TRANSFORM QUERY---\n",
      "---GENERATE---\n"
     ]
    },
    {
     "name": "stderr",
     "output_type": "stream",
     "text": [
      "d:\\AIEA Lab\\LLM Logic\\Agentic-RAG\\venv\\lib\\site-packages\\langsmith\\client.py:253: LangSmithMissingAPIKeyWarning: API key must be provided when using hosted LangSmith API\n",
      "  warnings.warn(\n"
     ]
    },
    {
     "name": "stdout",
     "output_type": "stream",
     "text": [
      "Processing question: If I’m admitted from the waitlist, will I get my first-choice residential college?\n",
      "Question count: 75\n",
      "---CALL AGENT---\n",
      "---CHECK RELEVANCE---\n",
      "---DECISION: DOCS NOT RELEVANT---\n",
      "no\n",
      "---TRANSFORM QUERY---\n",
      "---CALL AGENT---\n",
      "---CHECK RELEVANCE---\n",
      "---DECISION: DOCS NOT RELEVANT---\n",
      "no\n",
      "---TRANSFORM QUERY---\n",
      "---CALL AGENT---\n",
      "Processing question: Can I change the college I was assigned to?\n",
      "Question count: 76\n",
      "---CALL AGENT---\n",
      "---CHECK RELEVANCE---\n",
      "---DECISION: DOCS RELEVANT---\n",
      "---GENERATE---\n"
     ]
    },
    {
     "name": "stderr",
     "output_type": "stream",
     "text": [
      "d:\\AIEA Lab\\LLM Logic\\Agentic-RAG\\venv\\lib\\site-packages\\langsmith\\client.py:253: LangSmithMissingAPIKeyWarning: API key must be provided when using hosted LangSmith API\n",
      "  warnings.warn(\n"
     ]
    },
    {
     "name": "stdout",
     "output_type": "stream",
     "text": [
      "Processing question: How do I apply for admission for fall or winter quarters?\n",
      "Question count: 77\n",
      "---CALL AGENT---\n",
      "---CHECK RELEVANCE---\n",
      "---DECISION: DOCS RELEVANT---\n",
      "---GENERATE---\n"
     ]
    },
    {
     "name": "stderr",
     "output_type": "stream",
     "text": [
      "d:\\AIEA Lab\\LLM Logic\\Agentic-RAG\\venv\\lib\\site-packages\\langsmith\\client.py:253: LangSmithMissingAPIKeyWarning: API key must be provided when using hosted LangSmith API\n",
      "  warnings.warn(\n"
     ]
    },
    {
     "name": "stdout",
     "output_type": "stream",
     "text": [
      "Processing question: What standardized tests do I need to take?\n",
      "Question count: 78\n",
      "---CALL AGENT---\n",
      "---CHECK RELEVANCE---\n",
      "---DECISION: DOCS RELEVANT---\n",
      "---GENERATE---\n"
     ]
    },
    {
     "name": "stderr",
     "output_type": "stream",
     "text": [
      "d:\\AIEA Lab\\LLM Logic\\Agentic-RAG\\venv\\lib\\site-packages\\langsmith\\client.py:253: LangSmithMissingAPIKeyWarning: API key must be provided when using hosted LangSmith API\n",
      "  warnings.warn(\n"
     ]
    },
    {
     "name": "stdout",
     "output_type": "stream",
     "text": [
      "Processing question: What is the acceptance rate?\n",
      "Question count: 79\n",
      "---CALL AGENT---\n",
      "---CHECK RELEVANCE---\n",
      "---DECISION: DOCS RELEVANT---\n",
      "---GENERATE---\n"
     ]
    },
    {
     "name": "stderr",
     "output_type": "stream",
     "text": [
      "d:\\AIEA Lab\\LLM Logic\\Agentic-RAG\\venv\\lib\\site-packages\\langsmith\\client.py:253: LangSmithMissingAPIKeyWarning: API key must be provided when using hosted LangSmith API\n",
      "  warnings.warn(\n"
     ]
    },
    {
     "name": "stdout",
     "output_type": "stream",
     "text": [
      "Processing question: Do students from the East Coast have a greater chance of being accepted than West Coast students?\n",
      "Question count: 80\n",
      "---CALL AGENT---\n",
      "---CHECK RELEVANCE---\n",
      "---DECISION: DOCS NOT RELEVANT---\n",
      "no\n",
      "---TRANSFORM QUERY---\n",
      "---CALL AGENT---\n",
      "Processing question: What is your AP policy?\n",
      "Question count: 81\n",
      "---CALL AGENT---\n",
      "---CHECK RELEVANCE---\n",
      "---DECISION: DOCS NOT RELEVANT---\n",
      "no\n",
      "---TRANSFORM QUERY---\n",
      "---CALL AGENT---\n",
      "---CHECK RELEVANCE---\n",
      "---DECISION: DOCS NOT RELEVANT---\n",
      "no\n",
      "---TRANSFORM QUERY---\n",
      "---CALL AGENT---\n",
      "---CHECK RELEVANCE---\n",
      "---DECISION: DOCS NOT RELEVANT---\n",
      "no\n",
      "---TRANSFORM QUERY---\n",
      "---CALL AGENT---\n",
      "---CHECK RELEVANCE---\n",
      "---DECISION: DOCS NOT RELEVANT---\n",
      "no\n",
      "---TRANSFORM QUERY---\n",
      "---CALL AGENT---\n",
      "---CHECK RELEVANCE---\n",
      "---DECISION: DOCS NOT RELEVANT---\n",
      "no\n",
      "---TRANSFORM QUERY---\n",
      "---GENERATE---\n"
     ]
    },
    {
     "name": "stderr",
     "output_type": "stream",
     "text": [
      "d:\\AIEA Lab\\LLM Logic\\Agentic-RAG\\venv\\lib\\site-packages\\langsmith\\client.py:253: LangSmithMissingAPIKeyWarning: API key must be provided when using hosted LangSmith API\n",
      "  warnings.warn(\n"
     ]
    },
    {
     "name": "stdout",
     "output_type": "stream",
     "text": [
      "Processing question: When are acceptance notices sent out?\n",
      "Question count: 82\n",
      "---CALL AGENT---\n",
      "---CHECK RELEVANCE---\n",
      "---DECISION: DOCS RELEVANT---\n",
      "---GENERATE---\n"
     ]
    },
    {
     "name": "stderr",
     "output_type": "stream",
     "text": [
      "d:\\AIEA Lab\\LLM Logic\\Agentic-RAG\\venv\\lib\\site-packages\\langsmith\\client.py:253: LangSmithMissingAPIKeyWarning: API key must be provided when using hosted LangSmith API\n",
      "  warnings.warn(\n"
     ]
    },
    {
     "name": "stdout",
     "output_type": "stream",
     "text": [
      "Processing question: What is the application and admission process for student athletes?\n",
      "Question count: 83\n",
      "---CALL AGENT---\n",
      "---CHECK RELEVANCE---\n",
      "---DECISION: DOCS RELEVANT---\n",
      "---GENERATE---\n"
     ]
    },
    {
     "name": "stderr",
     "output_type": "stream",
     "text": [
      "d:\\AIEA Lab\\LLM Logic\\Agentic-RAG\\venv\\lib\\site-packages\\langsmith\\client.py:253: LangSmithMissingAPIKeyWarning: API key must be provided when using hosted LangSmith API\n",
      "  warnings.warn(\n"
     ]
    },
    {
     "name": "stdout",
     "output_type": "stream",
     "text": [
      "Processing question: What kinds of athletics and intramural programs are there?\n",
      "Question count: 84\n",
      "---CALL AGENT---\n",
      "---CHECK RELEVANCE---\n",
      "---DECISION: DOCS NOT RELEVANT---\n",
      "no\n",
      "---TRANSFORM QUERY---\n",
      "---CALL AGENT---\n",
      "Processing question: Does UC Santa Cruz offer any athletics scholarships or financial aid?\n",
      "Question count: 85\n",
      "---CALL AGENT---\n",
      "---CHECK RELEVANCE---\n",
      "---DECISION: DOCS RELEVANT---\n",
      "---GENERATE---\n"
     ]
    },
    {
     "name": "stderr",
     "output_type": "stream",
     "text": [
      "d:\\AIEA Lab\\LLM Logic\\Agentic-RAG\\venv\\lib\\site-packages\\langsmith\\client.py:253: LangSmithMissingAPIKeyWarning: API key must be provided when using hosted LangSmith API\n",
      "  warnings.warn(\n"
     ]
    },
    {
     "name": "stdout",
     "output_type": "stream",
     "text": [
      "Processing question: What is the level of competition in UC Santa Cruz athletics?\n",
      "Question count: 86\n",
      "---CALL AGENT---\n",
      "---CHECK RELEVANCE---\n",
      "---DECISION: DOCS NOT RELEVANT---\n",
      "no\n",
      "---TRANSFORM QUERY---\n",
      "---CALL AGENT---\n",
      "Processing question: How difficult is it to make an NCAA Division III team?\n",
      "Question count: 87\n",
      "---CALL AGENT---\n",
      "Processing question: How are the athletics facilities at UC Santa Cruz?\n",
      "Question count: 88\n",
      "---CALL AGENT---\n",
      "---CHECK RELEVANCE---\n",
      "---DECISION: DOCS RELEVANT---\n",
      "---GENERATE---\n"
     ]
    },
    {
     "name": "stderr",
     "output_type": "stream",
     "text": [
      "d:\\AIEA Lab\\LLM Logic\\Agentic-RAG\\venv\\lib\\site-packages\\langsmith\\client.py:253: LangSmithMissingAPIKeyWarning: API key must be provided when using hosted LangSmith API\n",
      "  warnings.warn(\n"
     ]
    },
    {
     "name": "stdout",
     "output_type": "stream",
     "text": [
      "Processing question: Does UC Santa Cruz have a housing guarantee?\n",
      "Question count: 89\n",
      "---CALL AGENT---\n",
      "---CHECK RELEVANCE---\n",
      "---DECISION: DOCS RELEVANT---\n",
      "---GENERATE---\n"
     ]
    },
    {
     "name": "stderr",
     "output_type": "stream",
     "text": [
      "d:\\AIEA Lab\\LLM Logic\\Agentic-RAG\\venv\\lib\\site-packages\\langsmith\\client.py:253: LangSmithMissingAPIKeyWarning: API key must be provided when using hosted LangSmith API\n",
      "  warnings.warn(\n"
     ]
    },
    {
     "name": "stdout",
     "output_type": "stream",
     "text": [
      "Processing question: What is the college system?\n",
      "Question count: 90\n",
      "---CALL AGENT---\n",
      "---CHECK RELEVANCE---\n",
      "---DECISION: DOCS RELEVANT---\n",
      "---GENERATE---\n"
     ]
    },
    {
     "name": "stderr",
     "output_type": "stream",
     "text": [
      "d:\\AIEA Lab\\LLM Logic\\Agentic-RAG\\venv\\lib\\site-packages\\langsmith\\client.py:253: LangSmithMissingAPIKeyWarning: API key must be provided when using hosted LangSmith API\n",
      "  warnings.warn(\n"
     ]
    },
    {
     "name": "stdout",
     "output_type": "stream",
     "text": [
      "Processing question: How do I request affiliation with a college and can I change it?\n",
      "Question count: 91\n",
      "---CALL AGENT---\n",
      "---CHECK RELEVANCE---\n",
      "---DECISION: DOCS RELEVANT---\n",
      "---GENERATE---\n"
     ]
    },
    {
     "name": "stderr",
     "output_type": "stream",
     "text": [
      "d:\\AIEA Lab\\LLM Logic\\Agentic-RAG\\venv\\lib\\site-packages\\langsmith\\client.py:253: LangSmithMissingAPIKeyWarning: API key must be provided when using hosted LangSmith API\n",
      "  warnings.warn(\n"
     ]
    },
    {
     "name": "stdout",
     "output_type": "stream",
     "text": [
      "Processing question: Does my college affiliation affect what classes I can take?\n",
      "Question count: 92\n",
      "---CALL AGENT---\n",
      "---CHECK RELEVANCE---\n",
      "---DECISION: DOCS RELEVANT---\n",
      "---GENERATE---\n"
     ]
    },
    {
     "name": "stderr",
     "output_type": "stream",
     "text": [
      "d:\\AIEA Lab\\LLM Logic\\Agentic-RAG\\venv\\lib\\site-packages\\langsmith\\client.py:253: LangSmithMissingAPIKeyWarning: API key must be provided when using hosted LangSmith API\n",
      "  warnings.warn(\n"
     ]
    },
    {
     "name": "stdout",
     "output_type": "stream",
     "text": [
      "Processing question: What services are in place to help me find off-campus housing?\n",
      "Question count: 93\n",
      "---CALL AGENT---\n",
      "---CHECK RELEVANCE---\n",
      "---DECISION: DOCS NOT RELEVANT---\n",
      "no\n",
      "---TRANSFORM QUERY---\n",
      "---CALL AGENT---\n",
      "---CHECK RELEVANCE---\n",
      "---DECISION: DOCS NOT RELEVANT---\n",
      "no\n",
      "---TRANSFORM QUERY---\n",
      "---CALL AGENT---\n",
      "---CHECK RELEVANCE---\n",
      "---DECISION: DOCS NOT RELEVANT---\n",
      "no\n",
      "---TRANSFORM QUERY---\n",
      "---CALL AGENT---\n",
      "---CHECK RELEVANCE---\n",
      "---DECISION: DOCS NOT RELEVANT---\n",
      "no\n",
      "---TRANSFORM QUERY---\n",
      "---CALL AGENT---\n",
      "---CHECK RELEVANCE---\n",
      "---DECISION: DOCS NOT RELEVANT---\n",
      "no\n",
      "---TRANSFORM QUERY---\n",
      "---GENERATE---\n"
     ]
    },
    {
     "name": "stderr",
     "output_type": "stream",
     "text": [
      "d:\\AIEA Lab\\LLM Logic\\Agentic-RAG\\venv\\lib\\site-packages\\langsmith\\client.py:253: LangSmithMissingAPIKeyWarning: API key must be provided when using hosted LangSmith API\n",
      "  warnings.warn(\n"
     ]
    },
    {
     "name": "stdout",
     "output_type": "stream",
     "text": [
      "Processing question: How do I apply for Family Student Housing?\n",
      "Question count: 94\n",
      "---CALL AGENT---\n",
      "---CHECK RELEVANCE---\n",
      "---DECISION: DOCS RELEVANT---\n",
      "---GENERATE---\n"
     ]
    },
    {
     "name": "stderr",
     "output_type": "stream",
     "text": [
      "d:\\AIEA Lab\\LLM Logic\\Agentic-RAG\\venv\\lib\\site-packages\\langsmith\\client.py:253: LangSmithMissingAPIKeyWarning: API key must be provided when using hosted LangSmith API\n",
      "  warnings.warn(\n"
     ]
    },
    {
     "name": "stdout",
     "output_type": "stream",
     "text": [
      "Processing question: What types of financial aid are available?\n",
      "Question count: 95\n",
      "---CALL AGENT---\n",
      "---CHECK RELEVANCE---\n",
      "---DECISION: DOCS RELEVANT---\n",
      "---GENERATE---\n"
     ]
    },
    {
     "name": "stderr",
     "output_type": "stream",
     "text": [
      "d:\\AIEA Lab\\LLM Logic\\Agentic-RAG\\venv\\lib\\site-packages\\langsmith\\client.py:253: LangSmithMissingAPIKeyWarning: API key must be provided when using hosted LangSmith API\n",
      "  warnings.warn(\n"
     ]
    },
    {
     "name": "stdout",
     "output_type": "stream",
     "text": [
      "Processing question: What is the Blue and Gold Opportunity Plan?\n",
      "Question count: 96\n",
      "---CALL AGENT---\n",
      "---CHECK RELEVANCE---\n",
      "---DECISION: DOCS RELEVANT---\n",
      "---GENERATE---\n"
     ]
    },
    {
     "name": "stderr",
     "output_type": "stream",
     "text": [
      "d:\\AIEA Lab\\LLM Logic\\Agentic-RAG\\venv\\lib\\site-packages\\langsmith\\client.py:253: LangSmithMissingAPIKeyWarning: API key must be provided when using hosted LangSmith API\n",
      "  warnings.warn(\n"
     ]
    },
    {
     "name": "stdout",
     "output_type": "stream",
     "text": [
      "Processing question: What is the Middle Class Scholarship?\n",
      "Question count: 97\n",
      "---CALL AGENT---\n",
      "---CHECK RELEVANCE---\n",
      "---DECISION: DOCS RELEVANT---\n",
      "---GENERATE---\n"
     ]
    },
    {
     "name": "stderr",
     "output_type": "stream",
     "text": [
      "d:\\AIEA Lab\\LLM Logic\\Agentic-RAG\\venv\\lib\\site-packages\\langsmith\\client.py:253: LangSmithMissingAPIKeyWarning: API key must be provided when using hosted LangSmith API\n",
      "  warnings.warn(\n"
     ]
    },
    {
     "name": "stdout",
     "output_type": "stream",
     "text": [
      "Processing question: What other financing options are available?\n",
      "Question count: 98\n",
      "---CALL AGENT---\n",
      "---CHECK RELEVANCE---\n",
      "---DECISION: DOCS RELEVANT---\n",
      "---GENERATE---\n"
     ]
    },
    {
     "name": "stderr",
     "output_type": "stream",
     "text": [
      "d:\\AIEA Lab\\LLM Logic\\Agentic-RAG\\venv\\lib\\site-packages\\langsmith\\client.py:253: LangSmithMissingAPIKeyWarning: API key must be provided when using hosted LangSmith API\n",
      "  warnings.warn(\n"
     ]
    },
    {
     "name": "stdout",
     "output_type": "stream",
     "text": [
      "Processing question: How do I apply for financial aid?\n",
      "Question count: 99\n",
      "---CALL AGENT---\n",
      "---CHECK RELEVANCE---\n",
      "---DECISION: DOCS RELEVANT---\n",
      "---GENERATE---\n"
     ]
    },
    {
     "name": "stderr",
     "output_type": "stream",
     "text": [
      "d:\\AIEA Lab\\LLM Logic\\Agentic-RAG\\venv\\lib\\site-packages\\langsmith\\client.py:253: LangSmithMissingAPIKeyWarning: API key must be provided when using hosted LangSmith API\n",
      "  warnings.warn(\n"
     ]
    },
    {
     "name": "stdout",
     "output_type": "stream",
     "text": [
      "Processing question: How much financial aid is offered for out-of-state students?\n",
      "Question count: 100\n",
      "---CALL AGENT---\n",
      "---CHECK RELEVANCE---\n",
      "---DECISION: DOCS RELEVANT---\n",
      "---GENERATE---\n"
     ]
    },
    {
     "name": "stderr",
     "output_type": "stream",
     "text": [
      "d:\\AIEA Lab\\LLM Logic\\Agentic-RAG\\venv\\lib\\site-packages\\langsmith\\client.py:253: LangSmithMissingAPIKeyWarning: API key must be provided when using hosted LangSmith API\n",
      "  warnings.warn(\n"
     ]
    },
    {
     "name": "stdout",
     "output_type": "stream",
     "text": [
      "Processing question: How much financial aid is offered for international students?\n",
      "Question count: 101\n",
      "---CALL AGENT---\n",
      "---CHECK RELEVANCE---\n",
      "---DECISION: DOCS RELEVANT---\n",
      "---GENERATE---\n"
     ]
    },
    {
     "name": "stderr",
     "output_type": "stream",
     "text": [
      "d:\\AIEA Lab\\LLM Logic\\Agentic-RAG\\venv\\lib\\site-packages\\langsmith\\client.py:253: LangSmithMissingAPIKeyWarning: API key must be provided when using hosted LangSmith API\n",
      "  warnings.warn(\n"
     ]
    },
    {
     "name": "stdout",
     "output_type": "stream",
     "text": [
      "Processing question: What if I don't qualify for financial aid?\n",
      "Question count: 102\n",
      "---CALL AGENT---\n",
      "---CHECK RELEVANCE---\n",
      "---DECISION: DOCS NOT RELEVANT---\n",
      "no\n",
      "---TRANSFORM QUERY---\n",
      "---CALL AGENT---\n",
      "Processing question: What student clubs and organizations are active at Santa Cruz?\n",
      "Question count: 103\n",
      "---CALL AGENT---\n",
      "---CHECK RELEVANCE---\n",
      "---DECISION: DOCS RELEVANT---\n",
      "---GENERATE---\n"
     ]
    },
    {
     "name": "stderr",
     "output_type": "stream",
     "text": [
      "d:\\AIEA Lab\\LLM Logic\\Agentic-RAG\\venv\\lib\\site-packages\\langsmith\\client.py:253: LangSmithMissingAPIKeyWarning: API key must be provided when using hosted LangSmith API\n",
      "  warnings.warn(\n"
     ]
    },
    {
     "name": "stdout",
     "output_type": "stream",
     "text": [
      "Processing question: What kinds of arts and entertainment does the campus offer?\n",
      "Question count: 104\n",
      "---CALL AGENT---\n",
      "---CHECK RELEVANCE---\n",
      "---DECISION: DOCS RELEVANT---\n",
      "---GENERATE---\n"
     ]
    },
    {
     "name": "stderr",
     "output_type": "stream",
     "text": [
      "d:\\AIEA Lab\\LLM Logic\\Agentic-RAG\\venv\\lib\\site-packages\\langsmith\\client.py:253: LangSmithMissingAPIKeyWarning: API key must be provided when using hosted LangSmith API\n",
      "  warnings.warn(\n"
     ]
    },
    {
     "name": "stdout",
     "output_type": "stream",
     "text": [
      "Processing question: Are there any selective majors at UC Santa Cruz?\n",
      "Question count: 105\n",
      "---CALL AGENT---\n",
      "---CHECK RELEVANCE---\n",
      "---DECISION: DOCS RELEVANT---\n",
      "---GENERATE---\n"
     ]
    },
    {
     "name": "stderr",
     "output_type": "stream",
     "text": [
      "d:\\AIEA Lab\\LLM Logic\\Agentic-RAG\\venv\\lib\\site-packages\\langsmith\\client.py:253: LangSmithMissingAPIKeyWarning: API key must be provided when using hosted LangSmith API\n",
      "  warnings.warn(\n"
     ]
    },
    {
     "name": "stdout",
     "output_type": "stream",
     "text": [
      "Processing question: What kinds of courses can I transfer?\n",
      "Question count: 106\n",
      "---CALL AGENT---\n",
      "---CHECK RELEVANCE---\n",
      "---DECISION: DOCS RELEVANT---\n",
      "---GENERATE---\n"
     ]
    },
    {
     "name": "stderr",
     "output_type": "stream",
     "text": [
      "d:\\AIEA Lab\\LLM Logic\\Agentic-RAG\\venv\\lib\\site-packages\\langsmith\\client.py:253: LangSmithMissingAPIKeyWarning: API key must be provided when using hosted LangSmith API\n",
      "  warnings.warn(\n"
     ]
    },
    {
     "name": "stdout",
     "output_type": "stream",
     "text": [
      "Processing question: What is the maximum number of credits I can transfer into UC Santa Cruz with?\n",
      "Question count: 107\n",
      "---CALL AGENT---\n",
      "---CHECK RELEVANCE---\n",
      "---DECISION: DOCS RELEVANT---\n",
      "---GENERATE---\n"
     ]
    },
    {
     "name": "stderr",
     "output_type": "stream",
     "text": [
      "d:\\AIEA Lab\\LLM Logic\\Agentic-RAG\\venv\\lib\\site-packages\\langsmith\\client.py:253: LangSmithMissingAPIKeyWarning: API key must be provided when using hosted LangSmith API\n",
      "  warnings.warn(\n"
     ]
    },
    {
     "name": "stdout",
     "output_type": "stream",
     "text": [
      "Processing question: What if I don't fulfill the general education requirements before I transfer?\n",
      "Question count: 108\n",
      "---CALL AGENT---\n",
      "---CHECK RELEVANCE---\n",
      "---DECISION: DOCS RELEVANT---\n",
      "---GENERATE---\n"
     ]
    },
    {
     "name": "stderr",
     "output_type": "stream",
     "text": [
      "d:\\AIEA Lab\\LLM Logic\\Agentic-RAG\\venv\\lib\\site-packages\\langsmith\\client.py:253: LangSmithMissingAPIKeyWarning: API key must be provided when using hosted LangSmith API\n",
      "  warnings.warn(\n"
     ]
    },
    {
     "name": "stdout",
     "output_type": "stream",
     "text": [
      "Processing question: What is UC TAP?\n",
      "Question count: 109\n",
      "---CALL AGENT---\n",
      "---CHECK RELEVANCE---\n",
      "---DECISION: DOCS RELEVANT---\n",
      "---GENERATE---\n"
     ]
    },
    {
     "name": "stderr",
     "output_type": "stream",
     "text": [
      "d:\\AIEA Lab\\LLM Logic\\Agentic-RAG\\venv\\lib\\site-packages\\langsmith\\client.py:253: LangSmithMissingAPIKeyWarning: API key must be provided when using hosted LangSmith API\n",
      "  warnings.warn(\n"
     ]
    },
    {
     "name": "stdout",
     "output_type": "stream",
     "text": [
      "Processing question: When are acceptance notices sent out?\n",
      "Question count: 110\n",
      "---CALL AGENT---\n",
      "---CHECK RELEVANCE---\n",
      "---DECISION: DOCS RELEVANT---\n",
      "---GENERATE---\n"
     ]
    },
    {
     "name": "stderr",
     "output_type": "stream",
     "text": [
      "d:\\AIEA Lab\\LLM Logic\\Agentic-RAG\\venv\\lib\\site-packages\\langsmith\\client.py:253: LangSmithMissingAPIKeyWarning: API key must be provided when using hosted LangSmith API\n",
      "  warnings.warn(\n"
     ]
    },
    {
     "name": "stdout",
     "output_type": "stream",
     "text": [
      "Processing question: What are the Cross-Campus and Simultaneous Enrollment programs?\n",
      "Question count: 111\n",
      "---CALL AGENT---\n",
      "---CHECK RELEVANCE---\n",
      "---DECISION: DOCS RELEVANT---\n",
      "---GENERATE---\n"
     ]
    },
    {
     "name": "stderr",
     "output_type": "stream",
     "text": [
      "d:\\AIEA Lab\\LLM Logic\\Agentic-RAG\\venv\\lib\\site-packages\\langsmith\\client.py:253: LangSmithMissingAPIKeyWarning: API key must be provided when using hosted LangSmith API\n",
      "  warnings.warn(\n"
     ]
    },
    {
     "name": "stdout",
     "output_type": "stream",
     "text": [
      "Processing question: Can I talk to an adviser during a campus visit?\n",
      "Question count: 112\n",
      "---CALL AGENT---\n",
      "---CHECK RELEVANCE---\n",
      "---DECISION: DOCS RELEVANT---\n",
      "---GENERATE---\n"
     ]
    },
    {
     "name": "stderr",
     "output_type": "stream",
     "text": [
      "d:\\AIEA Lab\\LLM Logic\\Agentic-RAG\\venv\\lib\\site-packages\\langsmith\\client.py:253: LangSmithMissingAPIKeyWarning: API key must be provided when using hosted LangSmith API\n",
      "  warnings.warn(\n"
     ]
    }
   ],
   "source": [
    "agentic_rag_answers = []\n",
    "count = 0\n",
    "searched_docs.clear()\n",
    "for question in ucsc_qa_df['questions']:\n",
    "    print(f\"Processing question: {question}\")\n",
    "    count += 1\n",
    "    print(f\"Question count: {count}\")\n",
    "    answer = get_final_answer(question)\n",
    "    agentic_rag_answers.append(answer)\n"
   ]
  },
  {
   "cell_type": "code",
   "execution_count": 65,
   "id": "06782a09",
   "metadata": {},
   "outputs": [
    {
     "name": "stdout",
     "output_type": "stream",
     "text": [
      "['5', '6', '8', '9', '14', '20', '32', '54', '55', '57', '58', '59', '61', '65', '67', '69', '75', '80', '84', '86', '87', '102']\n",
      "It seems like you're asking about a boating membership, but you didn't specify where or what type of boating club or organization you're interested in. Boating memberships can vary widely in cost depending on the location, the type of boats available, the amenities offered, and the level of membership. Could you provide more details or specify a particular boating club or location?\n",
      "To assist you better, could you please specify where you are looking to sign up for a boating membership? For example, are you interested in a local yacht club, a national boating organization, or a specific marina's boating club? This will help me provide you with the most relevant information.\n",
      "After joining the boating club at UCSC, there are a few additional fees for taking out boats:\n",
      "\n",
      "1. **Guest Fees:**\n",
      "   - **Student Guest Fee:** $5\n",
      "   - **Non-Student Guest Fee:** $10\n",
      "   - Guests are limited to one visit per month.\n",
      "\n",
      "2. **Hourly Boat Rental Fee:**\n",
      "   - This fee applies only to the use of the O'day 34 sailboat.\n",
      "   - **Student Hourly Boat Rental Fee:** $20\n",
      "\n",
      "These fees are applicable for guests and specific boat rentals beyond the general membership privileges.\n",
      "The information provided does not mention kayak rentals specifically. The UC Santa Cruz Boating Club offers a variety of sailing vessels and rowing shells for use by members, but there is no mention of kayaks in the list of available boats. If you are specifically interested in kayaking, it might be necessary to contact the boating club directly to inquire about the availability of kayaks.\n",
      "Yes, you are still eligible for UC SHIP even if you opted out last year. Each academic year, you have the opportunity to either accept enrollment in UC SHIP or waive it by completing an online waiver. If you previously waived UC SHIP, you must submit a new waiver at the beginning of each academic year if you choose to continue using your own insurance. If you decide not to submit a waiver, you will automatically be enrolled in UC SHIP for the new academic year.\n",
      "Could you please specify which university or context you are referring to? This will help me provide a more accurate answer regarding the availability of time for extracurricular activities.\n",
      "It seems like you're asking about a specific major at the University of California, Santa Cruz (UCSC), but you didn't specify which major you're interested in. Could you please provide the name of the major you're asking about?\n",
      "The University of California, Santa Cruz (UCSC) does not give any specific preference to local students during the admissions process. All first-year students, regardless of their geographic location, are reviewed and assessed using the same faculty-approved criteria. UCSC aims to admit students who will succeed at the university, including both those from California and those from outside California. Admission decisions consider various factors such as academic accomplishments, life experiences, special circumstances, socioeconomic background, special talents, achievements, and contributions to the community.\n",
      "Universities, including UCSC (University of California, Santa Cruz), may release admission decisions at different times for various reasons. Here are some common factors that can lead to staggered notification times:\n",
      "\n",
      "1. **Application Type**: Students who apply under early decision or early action plans often receive their admissions decisions earlier than those who apply under regular decision. These early application plans have earlier deadlines and thus allow the university to process and notify these applicants sooner.\n",
      "\n",
      "2. **Rolling Admissions**: Some programs may offer rolling admissions, where applications are reviewed as they are received rather than after a set deadline. This can result in earlier decisions for students who submit their applications early in the process.\n",
      "\n",
      "3. **Volume of Applications**: The number of applications received can affect processing times. High-volume programs or schools may take longer to review all applications, leading to later notification for some students.\n",
      "\n",
      "4. **Administrative Processes**: Different departments or programs within a university might have varying administrative capacities and processes, which can affect how quickly decisions are made and communicated.\n",
      "\n",
      "5. **Technical and Logistical Factors**: Sometimes, technical issues or logistical challenges can delay the processing of certain applications, affecting when decisions are released.\n",
      "\n",
      "If you're specifically interested in how UCSC handles their admissions notifications and why some students might hear back earlier than others, I can retrieve more detailed information directly related to UCSC's admissions process. Would you like me to do that?\n",
      "I'm here to assist you, but I don't have a direct appeals process for decisions or responses. However, I can help clarify any information or correct any mistakes. Please let me know what specific issue you'd like to address or what information you need corrected, and I'll do my best to assist you!\n",
      "If you believe a mistake has been made in a decision but you don't want to go through a formal appeal process, there are a few alternative steps you can consider:\n",
      "\n",
      "1. **Request a Review:** You can ask for an informal review of the decision. This involves contacting the decision-making body or person and requesting that they re-evaluate the decision based on any new information or clarifications you can provide.\n",
      "\n",
      "2. **Clarification:** Sometimes, misunderstandings or errors occur due to miscommunication. You can request a detailed explanation or clarification of the decision to ensure that all facts were considered correctly and that there was no misunderstanding.\n",
      "\n",
      "3. **Correction of Errors:** If the decision was based on incorrect or incomplete information, you can submit the correct or additional information and request a reconsideration of the decision.\n",
      "\n",
      "4. **Mediation:** In some cases, a mediator can be used to facilitate a resolution between you and the decision-making body. This can be a less formal and often quicker way to resolve disputes.\n",
      "\n",
      "5. **Consultation with a Supervisor or Higher Authority:** If the decision was made by an individual or a lower body, you might consider bringing the matter to the attention of a higher authority or supervisor within the organization.\n",
      "\n",
      "6. **Legal Advice:** If the decision has significant implications, consulting with a legal professional can provide you with guidance on your rights and possible actions.\n",
      "\n",
      "If you specify the context or the type of decision you are referring to, I can provide more tailored advice.\n",
      "The University of California, Santa Cruz (UCSC) does not set aside specific admission spaces for appeal cases. The appeal process operates within the same selection criteria and standards determined by the Committee on Admissions and Financial Aid (CAFA) for the given year. Appeals are not an alternate method for admission but are considered within the existing framework of admission criteria, including Admission by Exception.\n",
      "If your appeal for fall admission is denied, it does not automatically affect your chances for winter admission, as each application cycle is evaluated independently. However, UCSC typically does not have a winter admission cycle for new students; most new admissions occur in the fall. If you are considering applying for a different term, it's important to check if UCSC offers admission for that term.\n",
      "\n",
      "If your appeal is denied, you are encouraged to apply as a transfer student in a future year if you meet the eligibility criteria. This would involve attending another institution first and then transferring to UCSC. Additionally, in rare cases, appeals may be approved for a future quarter contingent on the completion of additional coursework, but this is not the norm.\n",
      "\n",
      "It's also important to address any issues that led to the denial of your appeal, such as improving your academic performance or correcting any errors in your application, before reapplying or considering transfer options.\n",
      "If you have been offered a place on the UCSC waitlist, you will receive a notification inviting you to opt into the waitlist. This notification typically comes via the admissions portal or email used during your application process. You will need to actively choose to join the waitlist by following the instructions provided in the invitation.\n",
      "To determine if you are automatically placed on a waitlist, I would need more context about the specific situation or institution you are referring to. For example, universities, courses, events, or services might have different policies regarding waitlisting. Could you please provide more details?\n",
      "I don't have access to specific personal or administrative data such as waitlist positions. You might want to check directly through your university's registration system or contact the relevant administrative office for the most accurate and up-to-date information. If you need help navigating the university's resources or have any other questions, feel free to ask!\n",
      "If you are admitted from the waitlist at UCSC, you can indicate your preference for university housing, including your preferred residential college. However, placement in your first-choice residential college is not guaranteed. It depends on the availability of space and other factors at the time of your admission. You will need to submit a housing application by the specified deadline to be considered for your preferred residential college. If you do not complete the application process by the deadline, or if the application is canceled, your housing guarantee may be voided.\n",
      "The data provided does not specifically break down the admission rates by East Coast versus West Coast. However, it does show that 6.9% of admitted students are from other states in the U.S., which could include both East Coast and West Coast states outside of California. The majority of admitted students are from various regions within California, with the highest percentages from the Los Angeles/Orange County/South Coast area (26.6%) and the San Francisco Bay Area (28.4%).\n",
      "\n",
      "To directly answer your question, there is no specific data indicating that students from the East Coast have a greater chance of being accepted than those from the West Coast. The admission rates seem to be more influenced by the number of applicants from each region rather than a bias towards a particular coast.\n",
      "### Athletics Programs at UCSC\n",
      "UCSC offers a variety of NCAA Division III athletic programs, including:\n",
      "- Men's and Women's Soccer\n",
      "- Men's and Women's Tennis\n",
      "- Men's and Women's Volleyball\n",
      "- Swimming and Diving\n",
      "- Track and Cross Country\n",
      "- Men’s Cross Country\n",
      "\n",
      "These programs participate in various conferences and have achieved honors such as conference championships.\n",
      "\n",
      "### Intramural Programs\n",
      "While specific intramural sports programs were not detailed in the information retrieved, UCSC typically offers a range of intramural sports that allow students to participate in less competitive, recreational sports activities. These often include team sports such as basketball, soccer, and ultimate frisbee, as well as individual or dual sports like tennis and swimming.\n",
      "\n",
      "For more detailed information on intramural sports, it would be best to visit UCSC's official athletics or intramural sports webpage or contact their athletics department directly.\n",
      "UC Santa Cruz athletics are quite competitive, particularly in track and field. The university has had athletes finish in top positions at NCAA Championships, such as:\n",
      "\n",
      "- In 2021, Conrad Pereira finished 10th in the Decathlon.\n",
      "- In 2023, Shea Wissler finished 7th in the Indoor Heptathlon and 11th in the Decathlon.\n",
      "\n",
      "These achievements indicate a high level of competition and performance in their athletics programs. Additionally, UC Santa Cruz has participated in various athletic conferences, including the Great South Athletic Conference and the American Collegiate Athletic Association, which further underscores their competitive engagement in collegiate sports.\n",
      "Making an NCAA Division III sports team can vary in difficulty depending on several factors, including the sport, the specific college, and the level of competition. Here are some key points to consider:\n",
      "\n",
      "1. **Sport Specifics**: Some sports may have more competitive tryouts due to higher interest levels or fewer available spots on the team. For example, sports like basketball or soccer might be more competitive than sports with larger rosters like track and field or swimming.\n",
      "\n",
      "2. **College Size and Program**: The size of the school and the popularity of the sport at that institution can influence the difficulty of making the team. Larger Division III schools or schools known for a particular sport might have more competitive tryouts.\n",
      "\n",
      "3. **Skill Level**: Division III does not offer athletic scholarships, so the teams might be more accessible to students who are not necessarily elite athletes but are passionate and skilled. However, this does not mean the competition is not fierce; many Division III athletes are very talented and could compete at higher levels.\n",
      "\n",
      "4. **Coaching and Team Philosophy**: Some coaches might prioritize developing players and may be more inclusive in their selection process, while others might be focused on immediate performance and opt for more experienced players.\n",
      "\n",
      "5. **Open Tryouts vs. Recruited Players**: Some teams hold open tryouts, which can provide an opportunity for non-recruited athletes to earn a spot. The presence of open tryouts can either increase or decrease the difficulty of making the team, depending on the number of participants and available spots.\n",
      "\n",
      "6. **Commitment Level**: Division III sports often emphasize a balance between athletics, academics, and extracurriculars, which might affect the type and intensity of competition among athletes trying out for a team.\n",
      "\n",
      "Overall, while Division III may be less demanding in terms of time commitment compared to Division I, the level of competition can still be high, and making a team can be challenging depending on the circumstances.\n",
      "If you don't qualify for traditional financial aid, there are several alternatives you can consider to help manage the costs of attending UCSC:\n",
      "\n",
      "1. **Scholarships**: Look for scholarships offered by UCSC, as well as external organizations. Scholarships are often based on merit, specific interests, or backgrounds, and do not need to be repaid.\n",
      "\n",
      "2. **Work-Study Programs**: If you are eligible, work-study programs can provide a part-time job to help pay for your education expenses.\n",
      "\n",
      "3. **Private Loans**: Consider private student loans from banks or other financial institutions. Be sure to compare interest rates and terms carefully.\n",
      "\n",
      "4. **Payment Plans**: UCSC may offer payment plans that allow you to spread the cost of tuition and fees over several months, making it easier to manage without a large upfront payment.\n",
      "\n",
      "5. **Employment**: Part-time jobs, either on-campus or off-campus, can provide a source of income to help cover your educational and living expenses.\n",
      "\n",
      "6. **Deans Award and Regents Scholarship**: These are specific scholarships available at UCSC that you might be eligible for, depending on your academic achievements and other criteria.\n",
      "\n",
      "Exploring these options can help you find financial solutions that fit your situation if traditional financial aid isn't available to you.\n"
     ]
    }
   ],
   "source": [
    "# list = \"4 5 7 8 13 31 53 54 56 57 58 60 64 66 68 74 76 79 83 86 111\".split(\" \")\n",
    "# list = \"5 6 8 9 14 30 32 54 55 57 58 59 61 65 69 80 84 86 87 102\".split(\" \")\n",
    "list = \"5 6 8 9 14 20 32 54 55 57 58 59 61 65 67 69 75 80 84 86 87 102\".split(\" \")\n",
    "print(list)\n",
    "for i in list:\n",
    "    print(agentic_rag_answers[int(i) - 1])"
   ]
  },
  {
   "cell_type": "code",
   "execution_count": 45,
   "id": "53edf1c0",
   "metadata": {},
   "outputs": [
    {
     "data": {
      "text/plain": [
       "\"I don't know.\""
      ]
     },
     "execution_count": 45,
     "metadata": {},
     "output_type": "execute_result"
    }
   ],
   "source": [
    "agentic_rag_answers[42]"
   ]
  },
  {
   "cell_type": "code",
   "execution_count": 66,
   "id": "edd6b00c-18c7-4a01-a8d5-2cec84f54537",
   "metadata": {},
   "outputs": [
    {
     "data": {
      "text/plain": [
       "112"
      ]
     },
     "execution_count": 66,
     "metadata": {},
     "output_type": "execute_result"
    }
   ],
   "source": [
    "len(agentic_rag_answers)"
   ]
  },
  {
   "cell_type": "code",
   "execution_count": 73,
   "id": "5f389d17",
   "metadata": {},
   "outputs": [
    {
     "name": "stdout",
     "output_type": "stream",
     "text": [
      "110\n",
      "[42, 80]\n"
     ]
    }
   ],
   "source": [
    "idx_list = []\n",
    "ans_list = []\n",
    "for i, item in enumerate(agentic_rag_answers):\n",
    "    if item == \"I don't know.\":\n",
    "        idx_list.append(i)\n",
    "        continue\n",
    "    ans_list.append(item)\n",
    "\n",
    "print(len(ans_list))\n",
    "print(idx_list)\n"
   ]
  },
  {
   "cell_type": "code",
   "execution_count": 7,
   "id": "ab5ef0b0",
   "metadata": {},
   "outputs": [
    {
     "data": {
      "text/plain": [
       "'How can I get a UC Santa Cruz catalog?'"
      ]
     },
     "execution_count": 7,
     "metadata": {},
     "output_type": "execute_result"
    }
   ],
   "source": [
    "ucsc_qa_df['questions'][41]"
   ]
  },
  {
   "cell_type": "code",
   "execution_count": null,
   "id": "31cbcae6",
   "metadata": {},
   "outputs": [
    {
     "name": "stdout",
     "output_type": "stream",
     "text": [
      "Question: Am I eligible for UC SHIP if I've graduated? \n",
      "Answer: Yes, you can be covered for one additional quarter if you've graduated and you had UC SHIP in the previous quarter. Students who graduate in June are still covered by UC SHIP if they had UC SHIP in the spring quarter; this coverage lasts until the start of the next academic calendar year. To enroll and purchase, complete the Continuation Voluntary Enrollment forms in the Insurance Forms & Helpful Links.\n",
      "Agentic Answer: I don't know.\n",
      "RAG Generated Answer: The context does not provide information about eligibility for UC SHIP for individuals who have graduated. It specifically discusses eligibility for undergraduate financial aid applicants and requirements for junior transfer admissions. Therefore, based on the provided context, it cannot be determined if you would be eligible for UC SHIP after graduation.\n",
      "\n",
      "\n",
      "Question: What are the class sizes for the lower and upper division classes under the engineering school?\n",
      "Answer: Annual undergraduate class size by division and department can be viewed on the ​​Institutional Research, Assessment, and Policy Studies website. \n",
      "Agentic Answer: I don't know.\n",
      "RAG Generated Answer: To determine the class sizes for lower and upper division classes under the engineering school at UC Santa Cruz, you can refer to the Instructional Activity Dashboard provided by the Institutional Research, Analytics, and Planning Support (IRAPS). This dashboard contains detailed information on class sizes, including for cross-listed classes. You can access it at the following website: https://iraps.ucsc.edu/iraps-public-dashboards/instructional-activity/class-sizes.html.\n",
      "\n",
      "\n",
      "Question: What is UC Santa Cruz's grading policy for undergraduates?\n",
      "Answer: Undergraduates are graded on a traditional A-F (4.0) scale. Students may elect a pass/no pass option for no more than 25 percent of their coursework. Several majors further limit use of pass/no pass grading.\n",
      "Agentic Answer: I don't know.\n",
      "RAG Generated Answer: UC Santa Cruz requires students to earn a grade point average (GPA) of 3.00 or better in their college-preparatory courses (\"a-g\" courses), with a higher requirement of 3.40 or better for non-residents of California. Additionally, students must not receive a grade lower than a C in these courses.\n",
      "\n",
      "\n",
      "Question: Do you give any preference for local students?\n",
      "Answer: No. We hold all transfers to the same standards for admission, regardless of geographic location. Students transferring from the California community colleges remain the highest priority in our selection process. However, lower-division applicants and second-baccalaureate applicants are also considered, as are transfer students from colleges other than California community colleges.\n",
      "Agentic Answer: I don't know.\n",
      "RAG Generated Answer: The provided context does not explicitly mention whether there is a preference for local students. It lists the percentages of new students by region but does not indicate any preferential treatment.\n",
      "\n",
      "\n",
      "Question: What is your AP policy?\n",
      "Answer: The University of California grants credit for all College Board Advanced Placement Tests on which a student scores 3 or higher. For more information, please see our AP and IBH table and UC Office of the President information on AP and IBH.\n",
      "Agentic Answer: I don't know.\n",
      "RAG Generated Answer: The context provided does not contain specific information about an \"AP policy.\" It primarily discusses the appeal policy regarding undergraduate admissions at UC Santa Cruz and emphasizes the institution's commitment to equity in the treatment of applicants. If you are looking for details on Advanced Placement (AP) policies or any other specific AP-related information, it is not included in the provided text.\n",
      "\n",
      "\n",
      "Question: When are acceptance notices sent out?\n",
      "Answer: For fall quarter acceptance, most notices are sent late February through March 20 for first-year students and April 1-30 for transfer students. For winter quarter acceptance, notices are sent out on approximately September 15 of the previous year.\n",
      "Agentic Answer: I don't know.\n",
      "RAG Generated Answer: The context does not specify the exact date when acceptance notices are sent out. It only mentions the application submission deadlines and other related information.\n",
      "\n",
      "\n",
      "Question: When are acceptance notices sent out?\n",
      "Answer: For fall quarter acceptance, notices are sent April 1-30 for enrollment that fall. For winter quarter acceptance, notices are sent September 15 for enrollment the following winter.\n",
      "Agentic Answer: I don't know.\n",
      "RAG Generated Answer: The context does not specify when acceptance notices are sent out.\n",
      "\n",
      "\n"
     ]
    }
   ],
   "source": [
    "indexList = [14, 21, 42, 53, 80, 81, 109]\n",
    "ragGen_ans_list = ucsc_qa_df[\"generated_response\"].tolist()\n",
    "for i in indexList:\n",
    "    print(f\"Question: {ucsc_qa_df['questions'][i]}\")\n",
    "    print(f\"Answer: {ucsc_qa_df['answers'][i]}\")\n",
    "    print(f\"Agentic Answer: {agentic_rag_answers[i]}\")\n",
    "    print(f\"RAG Generated Answer: {ragGen_ans_list[i]}\")\n",
    "    print(\"\\n\")"
   ]
  },
  {
   "cell_type": "code",
   "execution_count": 27,
   "id": "a09e179e",
   "metadata": {},
   "outputs": [],
   "source": [
    "df = pd.DataFrame(agentic_rag_answers, columns=[\"agenticragoutput\"])\n",
    "\n",
    "# Write the DataFrame to a CSV file without writing the default index\n",
    "df.to_csv(\"AgenticRAGoutputNew.csv\", index=False)"
   ]
  },
  {
   "cell_type": "code",
   "execution_count": 28,
   "id": "fae4c913",
   "metadata": {},
   "outputs": [
    {
     "data": {
      "text/html": [
       "<div>\n",
       "<style scoped>\n",
       "    .dataframe tbody tr th:only-of-type {\n",
       "        vertical-align: middle;\n",
       "    }\n",
       "\n",
       "    .dataframe tbody tr th {\n",
       "        vertical-align: top;\n",
       "    }\n",
       "\n",
       "    .dataframe thead th {\n",
       "        text-align: right;\n",
       "    }\n",
       "</style>\n",
       "<table border=\"1\" class=\"dataframe\">\n",
       "  <thead>\n",
       "    <tr style=\"text-align: right;\">\n",
       "      <th></th>\n",
       "      <th>agenticragoutput</th>\n",
       "    </tr>\n",
       "  </thead>\n",
       "  <tbody>\n",
       "    <tr>\n",
       "      <th>0</th>\n",
       "      <td>Members of the Boating Club can include commun...</td>\n",
       "    </tr>\n",
       "    <tr>\n",
       "      <th>1</th>\n",
       "      <td>The UC Santa Cruz Community Boating Center off...</td>\n",
       "    </tr>\n",
       "    <tr>\n",
       "      <th>2</th>\n",
       "      <td>The boating club is open on Saturday and Sunda...</td>\n",
       "    </tr>\n",
       "    <tr>\n",
       "      <th>3</th>\n",
       "      <td>Members have access to a variety of sailing ve...</td>\n",
       "    </tr>\n",
       "    <tr>\n",
       "      <th>4</th>\n",
       "      <td>It seems like you're asking about the cost of ...</td>\n",
       "    </tr>\n",
       "    <tr>\n",
       "      <th>...</th>\n",
       "      <td>...</td>\n",
       "    </tr>\n",
       "    <tr>\n",
       "      <th>107</th>\n",
       "      <td>If you don't fulfill the general education req...</td>\n",
       "    </tr>\n",
       "    <tr>\n",
       "      <th>108</th>\n",
       "      <td>UC TAP, or the UC Transfer Admission Planner, ...</td>\n",
       "    </tr>\n",
       "    <tr>\n",
       "      <th>109</th>\n",
       "      <td>Acceptance notices for fall quarter are sent o...</td>\n",
       "    </tr>\n",
       "    <tr>\n",
       "      <th>110</th>\n",
       "      <td>The Cross-Campus Enrollment program allows UCS...</td>\n",
       "    </tr>\n",
       "    <tr>\n",
       "      <th>111</th>\n",
       "      <td>During your campus visit to UCSC, you can inde...</td>\n",
       "    </tr>\n",
       "  </tbody>\n",
       "</table>\n",
       "<p>112 rows × 1 columns</p>\n",
       "</div>"
      ],
      "text/plain": [
       "                                      agenticragoutput\n",
       "0    Members of the Boating Club can include commun...\n",
       "1    The UC Santa Cruz Community Boating Center off...\n",
       "2    The boating club is open on Saturday and Sunda...\n",
       "3    Members have access to a variety of sailing ve...\n",
       "4    It seems like you're asking about the cost of ...\n",
       "..                                                 ...\n",
       "107  If you don't fulfill the general education req...\n",
       "108  UC TAP, or the UC Transfer Admission Planner, ...\n",
       "109  Acceptance notices for fall quarter are sent o...\n",
       "110  The Cross-Campus Enrollment program allows UCS...\n",
       "111  During your campus visit to UCSC, you can inde...\n",
       "\n",
       "[112 rows x 1 columns]"
      ]
     },
     "execution_count": 28,
     "metadata": {},
     "output_type": "execute_result"
    }
   ],
   "source": [
    "#load csv file and display the data\n",
    "df = pd.read_csv(\"AgenticRAGoutputNew.csv\")\n",
    "df"
   ]
  },
  {
   "cell_type": "code",
   "execution_count": 29,
   "id": "0ba139c7",
   "metadata": {},
   "outputs": [],
   "source": [
    "src_ans_list = ucsc_qa_df['answers'].tolist()\n",
    "generated_ans_list = agentic_rag_answers"
   ]
  },
  {
   "cell_type": "code",
   "execution_count": 30,
   "id": "4790721d",
   "metadata": {},
   "outputs": [],
   "source": [
    "rouge = evaluate.load(\"rouge\")\n",
    "bleu = evaluate.load(\"bleu\")"
   ]
  },
  {
   "cell_type": "code",
   "execution_count": 31,
   "id": "3dae23cc",
   "metadata": {},
   "outputs": [
    {
     "data": {
      "text/plain": [
       "{'bleu': 0.07792995297653334,\n",
       " 'precisions': [0.28218937875751504,\n",
       "  0.0938770325203252,\n",
       "  0.04690721649484536,\n",
       "  0.029680962343096234],\n",
       " 'brevity_penalty': 1.0,\n",
       " 'length_ratio': 1.2942130004863024,\n",
       " 'translation_length': 7984,\n",
       " 'reference_length': 6169}"
      ]
     },
     "execution_count": 31,
     "metadata": {},
     "output_type": "execute_result"
    }
   ],
   "source": [
    "bleu_results = bleu.compute(predictions=generated_ans_list, references=src_ans_list)\n",
    "bleu_results"
   ]
  },
  {
   "cell_type": "code",
   "execution_count": 32,
   "id": "dffc59f9",
   "metadata": {},
   "outputs": [
    {
     "data": {
      "text/plain": [
       "{'rouge1': 0.3136198034862087,\n",
       " 'rouge2': 0.11768140747437175,\n",
       " 'rougeL': 0.216936495115884,\n",
       " 'rougeLsum': 0.22335066362474942}"
      ]
     },
     "execution_count": 32,
     "metadata": {},
     "output_type": "execute_result"
    }
   ],
   "source": [
    "rouge_results = rouge.compute(predictions=generated_ans_list, references=src_ans_list)\n",
    "rouge_results"
   ]
  },
  {
   "cell_type": "code",
   "execution_count": 69,
   "id": "2fc3b5b7",
   "metadata": {},
   "outputs": [
    {
     "data": {
      "text/plain": [
       "(90, 90, 90, 90)"
      ]
     },
     "execution_count": 69,
     "metadata": {},
     "output_type": "execute_result"
    }
   ],
   "source": [
    "src_ans_list = []\n",
    "gen_ans_list = []\n",
    "question_list = []\n",
    "for i in range(112):\n",
    "    if str(i + 1) in list:\n",
    "        continue\n",
    "    src_ans_list.append(ucsc_qa_df['answers'][i])\n",
    "    gen_ans_list.append(agentic_rag_answers[i])\n",
    "    question_list.append(ucsc_qa_df['questions'][i])\n",
    "\n",
    "len(src_ans_list), len(gen_ans_list), len(searched_docs) , len(question_list)"
   ]
  },
  {
   "cell_type": "code",
   "execution_count": null,
   "id": "a4456fea",
   "metadata": {},
   "outputs": [],
   "source": [
    "# src_ans_list = ucsc_qa_df['answers'].tolist()\n",
    "# gen_ans_list = ucsc_qa_df[\"generated_response\"].tolist()\n",
    "# source_doc_list =  ucsc_qa_df[\"source_docs\"].tolist()\n",
    "# question_list = ucsc_qa_df[\"questions\"].tolist()"
   ]
  },
  {
   "cell_type": "code",
   "execution_count": 70,
   "id": "5ab0562b",
   "metadata": {},
   "outputs": [
    {
     "name": "stdout",
     "output_type": "stream",
     "text": [
      "Source Answer:  <class 'str'>\n",
      "Generated Answer:  Members of the Boating Club can include community members, UC Santa Cruz students, faculty, and staff. They have access to sailing and rowing vessels under the supervision of the Boating Center dockmaster. Membership requires approval for boat use based on experience.\n",
      "Source Docs:  How can I join the Boating Club?\n",
      "\n",
      "The boating club exists to give community members, UC Santa Cruz students, faculty, and staff access to equipment that makes it possible to enjoy our beautiful Monterey Bay. The club provides members a unique opportunity to use any number of sailing and rowing vessels under the weekend supervision of the Boating Center dockmaster.\n",
      "\n",
      "Our club exists to give community members, UC Santa Cruz students, faculty, and staff access to equipment that makes it possible to enjoy our beautiful Monterey Bay. The club provides members a unique opportunity to use any number of sailing and rowing vessels under the weekend supervision of the Boating Center dockmaster.\n",
      "Our boats:\n",
      "Sailing vessels for weekend use currently include RS Quests, Lasers, RS Visions, a SC27, a Santana 22, a J 24, an Olson 30, and an O'Day 34.\n",
      "The rowing fleet exists of eight Edon training shells, two MAAS AEROS 20s, two MAAS 24s, Bay 21, Pegasus, WinTech 30' double, and a custom-built wooden double. \n",
      "Want to take a boat out? Make sure to pay your membership dues and boat fees online ahead of time. The boating center will no longer be accepting cash payments on-site.\n",
      "Sailing Hours:\n",
      "Friday 4:00-7:00 PM (during daylight savings)\n",
      "Saturday 12:00-5:00 PM\n",
      "Sunday 12:00-5:00 PM\n",
      "Members of the Community Boating Club have access to sailboats and rowing shells during club hours. Members must be approved for boat use by the boating directors before checking out a rowing shall or sailboat. Check our calendar for the next available checkout day. If you do not have prior sailing or rowing experience, we offer classes to build your confidence on the water! For class information, click here.\n",
      "Sailors and rowers are evaluated based on experience and allowed boat use accordingly.\n",
      "\n",
      "Our club exists to give community members, UC Santa Cruz students, faculty, and staff access to equipment that makes it possible to enjoy our beautiful Monterey Bay. The club provides members a unique opportunity to use any number of sailing and rowing vessels under the weekend supervision of the Boating Center dockmaster.\n",
      "Question:  Who can be a member of the Boating Club?\n"
     ]
    }
   ],
   "source": [
    "print(\"Source Answer: \", type(src_ans_list[0]))\n",
    "print(\"Generated Answer: \", gen_ans_list[0])\n",
    "print(\"Source Docs: \", searched_docs[0])\n",
    "print(\"Question: \", question_list[0])"
   ]
  },
  {
   "cell_type": "code",
   "execution_count": null,
   "id": "30e771e6",
   "metadata": {},
   "outputs": [],
   "source": [
    "len(src_ans_list), len(gen_ans_list), len(searched_docs) , len(question_list)"
   ]
  },
  {
   "cell_type": "code",
   "execution_count": 71,
   "id": "af07bcf4",
   "metadata": {},
   "outputs": [
    {
     "name": "stderr",
     "output_type": "stream",
     "text": [
      "Evaluating: 100%|██████████| 360/360 [03:50<00:00,  1.56it/s]\n"
     ]
    },
    {
     "name": "stdout",
     "output_type": "stream",
     "text": [
      "                                           user_input  \\\n",
      "0            Who can be a member of the Boating Club?   \n",
      "1   What classes does the boating center offer to ...   \n",
      "2                      When is the boating club open?   \n",
      "3                What boats are available to members?   \n",
      "4                    How can I join the Boating Club?   \n",
      "..                                                ...   \n",
      "85  What if I don't fulfill the general education ...   \n",
      "86                                    What is UC TAP?   \n",
      "87              When are acceptance notices sent out?   \n",
      "88  What are the Cross-Campus and Simultaneous Enr...   \n",
      "89    Can I talk to an adviser during a campus visit?   \n",
      "\n",
      "                                   retrieved_contexts  \\\n",
      "0   [How can I join the Boating Club?, The boating...   \n",
      "1   [UC Santa Cruz Community Boating Center is a c...   \n",
      "2   [Boating Club Hours\\nThe Community Boating Cen...   \n",
      "3   [Our boats:\\nSailing vessels for weekend use c...   \n",
      "4   [How can I join the Boating Club?, Our boats:\\...   \n",
      "..                                                ...   \n",
      "85  [You must complete your major preparation cour...   \n",
      "86  [UCSC TPP\\nUCSC TAG Step-by-Step\\nComplete the...   \n",
      "87  [For fall quarter acceptance, most notices are...   \n",
      "88  [During fall, winter, and spring quarters, und...   \n",
      "89  [College advisors and preceptors are “generali...   \n",
      "\n",
      "                                             response  \\\n",
      "0   Members of the Boating Club can include commun...   \n",
      "1   The UC Santa Cruz Community Boating Center off...   \n",
      "2   The boating club is open on Saturdays and Sund...   \n",
      "3   Members have access to a variety of sailing ve...   \n",
      "4   To join the Boating Club, you need to pay your...   \n",
      "..                                                ...   \n",
      "85  If you don't fulfill the general education req...   \n",
      "86  UC TAP, or the UC Transfer Admission Planner, ...   \n",
      "87  For fall quarter acceptance, most notices are ...   \n",
      "88  The Cross-Campus Enrollment program allows und...   \n",
      "89  Yes, you can talk to an adviser during a campu...   \n",
      "\n",
      "                                            reference  faithfulness  \\\n",
      "0   Everyone is welcome to join! If you do not hav...      1.000000   \n",
      "1   We offer all levels of sailing (dinghy and kee...      1.000000   \n",
      "2   The club is open year-round, Saturday and Sund...      1.000000   \n",
      "3   Sailing vessels for weekend use currently incl...      1.000000   \n",
      "4   Come down to the dock during our open club hou...      1.000000   \n",
      "..                                                ...           ...   \n",
      "85  If you don't satisfy general education require...      1.000000   \n",
      "86  UC Transfer Admission Planner (UC TAP) is an o...      0.833333   \n",
      "87  For fall quarter acceptance, notices are sent ...      1.000000   \n",
      "88  Undergraduate students enrolled at UCSC may en...      0.800000   \n",
      "89  Advisers are available to answer your question...      0.750000   \n",
      "\n",
      "    answer_relevancy  context_recall  context_precision  \n",
      "0           0.994242        0.000000           0.638889  \n",
      "1           0.940775        0.000000           0.833333  \n",
      "2           0.958593        0.000000           0.750000  \n",
      "3           0.928825        0.500000           0.833333  \n",
      "4           0.959990        0.750000           0.333333  \n",
      "..               ...             ...                ...  \n",
      "85          0.938963        1.000000           0.200000  \n",
      "86          0.930519        0.000000           1.000000  \n",
      "87          0.947409        0.000000           1.000000  \n",
      "88          0.923194        0.500000           1.000000  \n",
      "89          1.000000        0.666667           1.000000  \n",
      "\n",
      "[90 rows x 8 columns]\n"
     ]
    }
   ],
   "source": [
    "import os\n",
    "from datasets import Dataset\n",
    "from ragas import evaluate\n",
    "from ragas.metrics import (\n",
    "    faithfulness,\n",
    "    answer_relevancy,\n",
    "    context_recall,\n",
    "    context_precision,\n",
    ")\n",
    "\n",
    "\n",
    "# Define the questions, ground truth answers, generated answers, and retrieved contexts\n",
    "questions = question_list\n",
    "ground_truth_answers = src_ans_list\n",
    "generated_answers = gen_ans_list\n",
    "retrieved_contexts = [docs.split(\"\\n\\n\") for docs in searched_docs]\n",
    "\n",
    "\n",
    "# Create a dataset compatible with Ragas\n",
    "data = {\n",
    "    \"question\": questions,\n",
    "    \"ground_truth\": ground_truth_answers,\n",
    "    \"answer\": generated_answers,\n",
    "    \"retrieved_contexts\": retrieved_contexts,\n",
    "}\n",
    "dataset = Dataset.from_dict(data)\n",
    "\n",
    "metrics = [faithfulness, answer_relevancy, context_recall, context_precision]\n",
    "\n",
    "results = evaluate(dataset, metrics=metrics, raise_exceptions=False)\n",
    "\n",
    "\n",
    "results_df = results.to_pandas()\n",
    "\n",
    "# Display the evaluation results\n",
    "print(results_df)\n"
   ]
  },
  {
   "cell_type": "code",
   "execution_count": 72,
   "id": "d5ebe782",
   "metadata": {},
   "outputs": [
    {
     "name": "stdout",
     "output_type": "stream",
     "text": [
      "Average Scores:\n",
      "faithfulness         0.864990\n",
      "answer_relevancy     0.798556\n",
      "context_recall       0.524074\n",
      "context_precision    0.645632\n",
      "dtype: float64\n"
     ]
    }
   ],
   "source": [
    "average_scores = results_df[['faithfulness', 'answer_relevancy', 'context_recall', 'context_precision']].mean()\n",
    "\n",
    "# Display the average scores\n",
    "print(\"Average Scores:\")\n",
    "print(average_scores)"
   ]
  }
 ],
 "metadata": {
  "kernelspec": {
   "display_name": "venv",
   "language": "python",
   "name": "python3"
  },
  "language_info": {
   "codemirror_mode": {
    "name": "ipython",
    "version": 3
   },
   "file_extension": ".py",
   "mimetype": "text/x-python",
   "name": "python",
   "nbconvert_exporter": "python",
   "pygments_lexer": "ipython3",
   "version": "3.10.11"
  }
 },
 "nbformat": 4,
 "nbformat_minor": 5
}
